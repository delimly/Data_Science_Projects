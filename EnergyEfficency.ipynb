{
 "cells": [
  {
   "cell_type": "markdown",
   "id": "9e113277-e972-434d-ad3d-beb18bf287f4",
   "metadata": {},
   "source": [
    "## Project 2: Analysis of Energy Effciencies of Different Building Types\n",
    "##### By Delice Mambi-Lambu"
   ]
  },
  {
   "cell_type": "markdown",
   "id": "7b9ba668-2ee3-4131-82ed-8019b66dc439",
   "metadata": {},
   "source": [
    "##### Abstract & Introduction\n",
    "This project is about the analysis of energy efficiencies of diffrent building types. We assess the heating load and cooling load requirements. These parameters are what we deem to be a mesurement of energy efficiency and we use them as a function of building parameters. \n",
    "\n",
    "The dataset consists of 8 features and 768 instances. In this dataset 12 diffrent building shape types are simulated via Ecotect (as per source given after). With these twelve shapes we produce an instance by varying diffent aspects of the building such as the glazing area, the glazing area distribution , the orientation and so on and so forth. The goal is to use Regression and Classification Algorithms to understand the relationships between the features and the response varibles.\n",
    " \n",
    "##### The Features - X\n",
    "\n",
    "* X1\tRelative Compactness\n",
    "* X2\tSurface Area\n",
    "* X3\tWall Area\n",
    "* X4\tRoof Area\n",
    "* X5\tOverall Height\n",
    "* X6\tOrientation\n",
    "* X7\tGlazing Area\n",
    "* X8\tGlazing Area Distribution\n",
    "\n",
    "##### The Targets - y\n",
    "\n",
    "* y1\tHeating Load\n",
    "* y2\tCooling Load\n",
    "\n"
   ]
  },
  {
   "cell_type": "markdown",
   "id": "be5a1947-e8b0-458c-9413-6267035200c1",
   "metadata": {},
   "source": [
    "##### Citation\n",
    "Tsanas,Athanasios and Xifara,Angeliki. (2012). Energy efficiency. UCI Machine Learning Repository. https://doi.org/10.24432/C51307."
   ]
  },
  {
   "cell_type": "markdown",
   "id": "f9a2952a-bb43-418b-8b96-66b605a5f21b",
   "metadata": {
    "tags": []
   },
   "source": [
    "#### Importing Libaries "
   ]
  },
  {
   "cell_type": "code",
   "execution_count": 1,
   "id": "809290c3-868c-4484-8f4c-183efcdc9c2f",
   "metadata": {
    "tags": []
   },
   "outputs": [],
   "source": [
    "%matplotlib inline \n",
    "import numpy as np\n",
    "import pandas as pd\n",
    "from scipy import stats \n",
    "import matplotlib as mpl \n",
    "import matplotlib.pyplot as plt\n",
    "import seaborn as sns \n",
    "import sklearn as sk"
   ]
  },
  {
   "cell_type": "markdown",
   "id": "bf6ab9b4-7395-41eb-a598-ad42d1db313c",
   "metadata": {},
   "source": [
    "I want the plotting style to be in the form of ggplot. so lets change it."
   ]
  },
  {
   "cell_type": "code",
   "execution_count": 2,
   "id": "f2b187e3-3637-4ea0-b979-570ca0e1e833",
   "metadata": {
    "tags": []
   },
   "outputs": [],
   "source": [
    "mpl.style.use('ggplot')"
   ]
  },
  {
   "cell_type": "markdown",
   "id": "cb628892-2258-4d6c-9a16-b8bddf9df5a3",
   "metadata": {
    "tags": []
   },
   "source": [
    "#### Data Importing"
   ]
  },
  {
   "cell_type": "code",
   "execution_count": 3,
   "id": "7025db13-5cd3-47a2-bfad-521e0880aa71",
   "metadata": {
    "tags": []
   },
   "outputs": [
    {
     "name": "stdout",
     "output_type": "stream",
     "text": [
      "C:\\Users\\delic\\OneDrive\\Documents\\Data Science Projects\\Classfication\n"
     ]
    }
   ],
   "source": [
    "# Here we obtain the path of our data file\n",
    "from pathlib import Path\n",
    "print(Path.cwd())"
   ]
  },
  {
   "cell_type": "code",
   "execution_count": 4,
   "id": "4db518e5-3e0d-4e9f-9745-b7ec58ace051",
   "metadata": {
    "tags": []
   },
   "outputs": [
    {
     "data": {
      "text/html": [
       "<div>\n",
       "<style scoped>\n",
       "    .dataframe tbody tr th:only-of-type {\n",
       "        vertical-align: middle;\n",
       "    }\n",
       "\n",
       "    .dataframe tbody tr th {\n",
       "        vertical-align: top;\n",
       "    }\n",
       "\n",
       "    .dataframe thead th {\n",
       "        text-align: right;\n",
       "    }\n",
       "</style>\n",
       "<table border=\"1\" class=\"dataframe\">\n",
       "  <thead>\n",
       "    <tr style=\"text-align: right;\">\n",
       "      <th></th>\n",
       "      <th>X1</th>\n",
       "      <th>X2</th>\n",
       "      <th>X3</th>\n",
       "      <th>X4</th>\n",
       "      <th>X5</th>\n",
       "      <th>X6</th>\n",
       "      <th>X7</th>\n",
       "      <th>X8</th>\n",
       "      <th>Y1</th>\n",
       "      <th>Y2</th>\n",
       "    </tr>\n",
       "  </thead>\n",
       "  <tbody>\n",
       "    <tr>\n",
       "      <th>0</th>\n",
       "      <td>0.98</td>\n",
       "      <td>514.5</td>\n",
       "      <td>294.0</td>\n",
       "      <td>110.25</td>\n",
       "      <td>7.0</td>\n",
       "      <td>2.0</td>\n",
       "      <td>0.0</td>\n",
       "      <td>0.0</td>\n",
       "      <td>15.55</td>\n",
       "      <td>21.33</td>\n",
       "    </tr>\n",
       "    <tr>\n",
       "      <th>1</th>\n",
       "      <td>0.98</td>\n",
       "      <td>514.5</td>\n",
       "      <td>294.0</td>\n",
       "      <td>110.25</td>\n",
       "      <td>7.0</td>\n",
       "      <td>3.0</td>\n",
       "      <td>0.0</td>\n",
       "      <td>0.0</td>\n",
       "      <td>15.55</td>\n",
       "      <td>21.33</td>\n",
       "    </tr>\n",
       "    <tr>\n",
       "      <th>2</th>\n",
       "      <td>0.98</td>\n",
       "      <td>514.5</td>\n",
       "      <td>294.0</td>\n",
       "      <td>110.25</td>\n",
       "      <td>7.0</td>\n",
       "      <td>4.0</td>\n",
       "      <td>0.0</td>\n",
       "      <td>0.0</td>\n",
       "      <td>15.55</td>\n",
       "      <td>21.33</td>\n",
       "    </tr>\n",
       "    <tr>\n",
       "      <th>3</th>\n",
       "      <td>0.98</td>\n",
       "      <td>514.5</td>\n",
       "      <td>294.0</td>\n",
       "      <td>110.25</td>\n",
       "      <td>7.0</td>\n",
       "      <td>5.0</td>\n",
       "      <td>0.0</td>\n",
       "      <td>0.0</td>\n",
       "      <td>15.55</td>\n",
       "      <td>21.33</td>\n",
       "    </tr>\n",
       "    <tr>\n",
       "      <th>4</th>\n",
       "      <td>0.90</td>\n",
       "      <td>563.5</td>\n",
       "      <td>318.5</td>\n",
       "      <td>122.50</td>\n",
       "      <td>7.0</td>\n",
       "      <td>2.0</td>\n",
       "      <td>0.0</td>\n",
       "      <td>0.0</td>\n",
       "      <td>20.84</td>\n",
       "      <td>28.28</td>\n",
       "    </tr>\n",
       "  </tbody>\n",
       "</table>\n",
       "</div>"
      ],
      "text/plain": [
       "     X1     X2     X3      X4   X5   X6   X7   X8     Y1     Y2\n",
       "0  0.98  514.5  294.0  110.25  7.0  2.0  0.0  0.0  15.55  21.33\n",
       "1  0.98  514.5  294.0  110.25  7.0  3.0  0.0  0.0  15.55  21.33\n",
       "2  0.98  514.5  294.0  110.25  7.0  4.0  0.0  0.0  15.55  21.33\n",
       "3  0.98  514.5  294.0  110.25  7.0  5.0  0.0  0.0  15.55  21.33\n",
       "4  0.90  563.5  318.5  122.50  7.0  2.0  0.0  0.0  20.84  28.28"
      ]
     },
     "execution_count": 4,
     "metadata": {},
     "output_type": "execute_result"
    }
   ],
   "source": [
    "#importing data\n",
    "\n",
    "path = r\"C:\\Users\\delic\\OneDrive\\Documents\\Data Science Projects\\Classfication\\ENB2012_data1.csv\"\n",
    "\n",
    "df = pd.read_csv(path)\n",
    "\n",
    "df.head()"
   ]
  },
  {
   "cell_type": "code",
   "execution_count": 5,
   "id": "8f60f775-7745-4de6-8afd-6a6e10a3df5f",
   "metadata": {
    "tags": []
   },
   "outputs": [
    {
     "data": {
      "text/plain": [
       "Index(['X1', 'X2', 'X3', 'X4', 'X5', 'X6', 'X7', 'X8', 'Y1', 'Y2'], dtype='object')"
      ]
     },
     "execution_count": 5,
     "metadata": {},
     "output_type": "execute_result"
    }
   ],
   "source": [
    "# Check if we need to chancge columns \n",
    "df.columns"
   ]
  },
  {
   "cell_type": "markdown",
   "id": "fbeabeaf-d9d6-4c9f-a3fb-dad99b31e701",
   "metadata": {
    "tags": []
   },
   "source": [
    "#### Data Cleaning "
   ]
  },
  {
   "cell_type": "code",
   "execution_count": 6,
   "id": "89d4bae0-e854-4f86-b663-a1a46131f70a",
   "metadata": {
    "tags": []
   },
   "outputs": [
    {
     "name": "stdout",
     "output_type": "stream",
     "text": [
      "<class 'pandas.core.frame.DataFrame'>\n",
      "RangeIndex: 1296 entries, 0 to 1295\n",
      "Data columns (total 10 columns):\n",
      " #   Column  Non-Null Count  Dtype  \n",
      "---  ------  --------------  -----  \n",
      " 0   X1      768 non-null    float64\n",
      " 1   X2      768 non-null    float64\n",
      " 2   X3      768 non-null    float64\n",
      " 3   X4      768 non-null    float64\n",
      " 4   X5      768 non-null    float64\n",
      " 5   X6      768 non-null    float64\n",
      " 6   X7      768 non-null    float64\n",
      " 7   X8      768 non-null    float64\n",
      " 8   Y1      768 non-null    float64\n",
      " 9   Y2      768 non-null    float64\n",
      "dtypes: float64(10)\n",
      "memory usage: 101.4 KB\n"
     ]
    }
   ],
   "source": [
    "#Further Checks Do we need to do anything\n",
    "df.info()"
   ]
  },
  {
   "cell_type": "code",
   "execution_count": 7,
   "id": "ddac1f47-638e-4504-a495-14dd66bc1661",
   "metadata": {
    "tags": []
   },
   "outputs": [],
   "source": [
    "missingData = df.isnull()"
   ]
  },
  {
   "cell_type": "code",
   "execution_count": 8,
   "id": "f7553330-90e1-41c1-b06b-cd7d9d422c30",
   "metadata": {
    "tags": []
   },
   "outputs": [
    {
     "name": "stdout",
     "output_type": "stream",
     "text": [
      "X1\n",
      "X1\n",
      "False    768\n",
      "True     528\n",
      "Name: count, dtype: int64\n",
      "\n",
      "X2\n",
      "X2\n",
      "False    768\n",
      "True     528\n",
      "Name: count, dtype: int64\n",
      "\n",
      "X3\n",
      "X3\n",
      "False    768\n",
      "True     528\n",
      "Name: count, dtype: int64\n",
      "\n",
      "X4\n",
      "X4\n",
      "False    768\n",
      "True     528\n",
      "Name: count, dtype: int64\n",
      "\n",
      "X5\n",
      "X5\n",
      "False    768\n",
      "True     528\n",
      "Name: count, dtype: int64\n",
      "\n",
      "X6\n",
      "X6\n",
      "False    768\n",
      "True     528\n",
      "Name: count, dtype: int64\n",
      "\n",
      "X7\n",
      "X7\n",
      "False    768\n",
      "True     528\n",
      "Name: count, dtype: int64\n",
      "\n",
      "X8\n",
      "X8\n",
      "False    768\n",
      "True     528\n",
      "Name: count, dtype: int64\n",
      "\n",
      "Y1\n",
      "Y1\n",
      "False    768\n",
      "True     528\n",
      "Name: count, dtype: int64\n",
      "\n",
      "Y2\n",
      "Y2\n",
      "False    768\n",
      "True     528\n",
      "Name: count, dtype: int64\n",
      "\n"
     ]
    }
   ],
   "source": [
    "for col in missingData.columns.values.tolist():\n",
    "    print(col)\n",
    "    print(missingData[col].value_counts())\n",
    "    print(\"\")"
   ]
  },
  {
   "cell_type": "markdown",
   "id": "2700ff8e-d3d4-4504-8095-1220220ebdcb",
   "metadata": {},
   "source": [
    "We see that theres actually more data than inteded lets get rid of this as this is no use to us. We also would like to use the dataframe in R hence we will export it afterwards."
   ]
  },
  {
   "cell_type": "code",
   "execution_count": 9,
   "id": "38cde932-a271-42e2-a618-d704afe45de7",
   "metadata": {
    "tags": []
   },
   "outputs": [
    {
     "name": "stdout",
     "output_type": "stream",
     "text": [
      "     X1     X2     X3      X4   X5   X6   X7   X8     Y1     Y2\n",
      "0  0.98  514.5  294.0  110.25  7.0  2.0  0.0  0.0  15.55  21.33\n",
      "1  0.98  514.5  294.0  110.25  7.0  3.0  0.0  0.0  15.55  21.33\n",
      "2  0.98  514.5  294.0  110.25  7.0  4.0  0.0  0.0  15.55  21.33\n",
      "3  0.98  514.5  294.0  110.25  7.0  5.0  0.0  0.0  15.55  21.33\n",
      "4  0.90  563.5  318.5  122.50  7.0  2.0  0.0  0.0  20.84  28.28\n"
     ]
    },
    {
     "data": {
      "text/plain": [
       "X1    0\n",
       "X2    0\n",
       "X3    0\n",
       "X4    0\n",
       "X5    0\n",
       "X6    0\n",
       "X7    0\n",
       "X8    0\n",
       "Y1    0\n",
       "Y2    0\n",
       "dtype: int64"
      ]
     },
     "execution_count": 9,
     "metadata": {},
     "output_type": "execute_result"
    }
   ],
   "source": [
    "df.dropna(axis = 0 , inplace = True) \n",
    "print(df.head())\n",
    "df.isnull().sum()"
   ]
  },
  {
   "cell_type": "code",
   "execution_count": 10,
   "id": "cacc74dd-6691-4bbe-bb2b-3c5d333f7d0a",
   "metadata": {
    "tags": []
   },
   "outputs": [
    {
     "data": {
      "text/plain": [
       "X1    float64\n",
       "X2    float64\n",
       "X3    float64\n",
       "X4    float64\n",
       "X5    float64\n",
       "X6    float64\n",
       "X7    float64\n",
       "X8    float64\n",
       "Y1    float64\n",
       "Y2    float64\n",
       "dtype: object"
      ]
     },
     "execution_count": 10,
     "metadata": {},
     "output_type": "execute_result"
    }
   ],
   "source": [
    "#Look at the types for each feature and taeget\n",
    "df.dtypes"
   ]
  },
  {
   "cell_type": "code",
   "execution_count": 11,
   "id": "ed1e09ed-a937-4d14-8bf2-4bbace6f1ef1",
   "metadata": {
    "tags": []
   },
   "outputs": [],
   "source": [
    "# Lets export \n",
    "path = r\"C:\\Users\\delic\\OneDrive\\Documents\\Data Science Projects\\Classfication\\ENB2012_data2.csv\"\n",
    "df.to_csv(path, index = False)"
   ]
  },
  {
   "cell_type": "markdown",
   "id": "ba41294d-6c57-4f9a-8ee5-192cba73266c",
   "metadata": {},
   "source": [
    "##### Data Formatting \n",
    "We may look to do multi-classification problem. So lets create a new dataframe for this problem round the response varables to seek if we can classify them. "
   ]
  },
  {
   "cell_type": "code",
   "execution_count": 12,
   "id": "dc19d23e-0827-4e53-83bf-58dd57a1b710",
   "metadata": {
    "tags": []
   },
   "outputs": [
    {
     "name": "stdout",
     "output_type": "stream",
     "text": [
      "['Y1', 'Y2']\n",
      "X1    float64\n",
      "X2    float64\n",
      "X3    float64\n",
      "X4    float64\n",
      "X5    float64\n",
      "X6    float64\n",
      "X7    float64\n",
      "X8    float64\n",
      "Y1      int32\n",
      "Y2      int32\n",
      "dtype: object\n"
     ]
    },
    {
     "data": {
      "text/html": [
       "<div>\n",
       "<style scoped>\n",
       "    .dataframe tbody tr th:only-of-type {\n",
       "        vertical-align: middle;\n",
       "    }\n",
       "\n",
       "    .dataframe tbody tr th {\n",
       "        vertical-align: top;\n",
       "    }\n",
       "\n",
       "    .dataframe thead th {\n",
       "        text-align: right;\n",
       "    }\n",
       "</style>\n",
       "<table border=\"1\" class=\"dataframe\">\n",
       "  <thead>\n",
       "    <tr style=\"text-align: right;\">\n",
       "      <th></th>\n",
       "      <th>X1</th>\n",
       "      <th>X2</th>\n",
       "      <th>X3</th>\n",
       "      <th>X4</th>\n",
       "      <th>X5</th>\n",
       "      <th>X6</th>\n",
       "      <th>X7</th>\n",
       "      <th>X8</th>\n",
       "      <th>Y1</th>\n",
       "      <th>Y2</th>\n",
       "    </tr>\n",
       "  </thead>\n",
       "  <tbody>\n",
       "    <tr>\n",
       "      <th>0</th>\n",
       "      <td>0.98</td>\n",
       "      <td>514.5</td>\n",
       "      <td>294.0</td>\n",
       "      <td>110.25</td>\n",
       "      <td>7.0</td>\n",
       "      <td>2.0</td>\n",
       "      <td>0.0</td>\n",
       "      <td>0.0</td>\n",
       "      <td>16</td>\n",
       "      <td>21</td>\n",
       "    </tr>\n",
       "    <tr>\n",
       "      <th>1</th>\n",
       "      <td>0.98</td>\n",
       "      <td>514.5</td>\n",
       "      <td>294.0</td>\n",
       "      <td>110.25</td>\n",
       "      <td>7.0</td>\n",
       "      <td>3.0</td>\n",
       "      <td>0.0</td>\n",
       "      <td>0.0</td>\n",
       "      <td>16</td>\n",
       "      <td>21</td>\n",
       "    </tr>\n",
       "    <tr>\n",
       "      <th>2</th>\n",
       "      <td>0.98</td>\n",
       "      <td>514.5</td>\n",
       "      <td>294.0</td>\n",
       "      <td>110.25</td>\n",
       "      <td>7.0</td>\n",
       "      <td>4.0</td>\n",
       "      <td>0.0</td>\n",
       "      <td>0.0</td>\n",
       "      <td>16</td>\n",
       "      <td>21</td>\n",
       "    </tr>\n",
       "    <tr>\n",
       "      <th>3</th>\n",
       "      <td>0.98</td>\n",
       "      <td>514.5</td>\n",
       "      <td>294.0</td>\n",
       "      <td>110.25</td>\n",
       "      <td>7.0</td>\n",
       "      <td>5.0</td>\n",
       "      <td>0.0</td>\n",
       "      <td>0.0</td>\n",
       "      <td>16</td>\n",
       "      <td>21</td>\n",
       "    </tr>\n",
       "    <tr>\n",
       "      <th>4</th>\n",
       "      <td>0.90</td>\n",
       "      <td>563.5</td>\n",
       "      <td>318.5</td>\n",
       "      <td>122.50</td>\n",
       "      <td>7.0</td>\n",
       "      <td>2.0</td>\n",
       "      <td>0.0</td>\n",
       "      <td>0.0</td>\n",
       "      <td>21</td>\n",
       "      <td>28</td>\n",
       "    </tr>\n",
       "  </tbody>\n",
       "</table>\n",
       "</div>"
      ],
      "text/plain": [
       "     X1     X2     X3      X4   X5   X6   X7   X8  Y1  Y2\n",
       "0  0.98  514.5  294.0  110.25  7.0  2.0  0.0  0.0  16  21\n",
       "1  0.98  514.5  294.0  110.25  7.0  3.0  0.0  0.0  16  21\n",
       "2  0.98  514.5  294.0  110.25  7.0  4.0  0.0  0.0  16  21\n",
       "3  0.98  514.5  294.0  110.25  7.0  5.0  0.0  0.0  16  21\n",
       "4  0.90  563.5  318.5  122.50  7.0  2.0  0.0  0.0  21  28"
      ]
     },
     "execution_count": 12,
     "metadata": {},
     "output_type": "execute_result"
    }
   ],
   "source": [
    "#dataframe for classification - we will not normalise this. \n",
    "dfC = df.copy()\n",
    "resList = list(dfC.columns)[-2:]\n",
    "print(resList)\n",
    "for res in resList:\n",
    "    dfC[res] = round(dfC[res]) # note that we use bankers rounding for python 3.x \n",
    "    dfC[res] = dfC[res].astype('int')\n",
    "print(dfC.dtypes)\n",
    "dfC.head()"
   ]
  },
  {
   "cell_type": "markdown",
   "id": "003dcd68-96df-4167-a170-bf3efd391109",
   "metadata": {},
   "source": [
    "It looks like all our data is clean and all of our data contains entries that are not null. Therefore we can focus Explotory Data Analysis "
   ]
  },
  {
   "cell_type": "markdown",
   "id": "41bcd03b-2b0f-44d0-93a5-afb64ed8811f",
   "metadata": {
    "tags": []
   },
   "source": [
    "#### Exploratory Data Analysis "
   ]
  },
  {
   "cell_type": "code",
   "execution_count": 13,
   "id": "f9c111d5-52cc-40ea-91fa-8e9ef24d0958",
   "metadata": {
    "tags": []
   },
   "outputs": [
    {
     "name": "stdout",
     "output_type": "stream",
     "text": [
      "     X1     X2     X3      X4   X5   X6   X7   X8     Y1     Y2\n",
      "0  0.98  514.5  294.0  110.25  7.0  2.0  0.0  0.0  15.55  21.33\n",
      "1  0.98  514.5  294.0  110.25  7.0  3.0  0.0  0.0  15.55  21.33\n",
      "2  0.98  514.5  294.0  110.25  7.0  4.0  0.0  0.0  15.55  21.33\n",
      "3  0.98  514.5  294.0  110.25  7.0  5.0  0.0  0.0  15.55  21.33\n",
      "4  0.90  563.5  318.5  122.50  7.0  2.0  0.0  0.0  20.84  28.28\n"
     ]
    },
    {
     "data": {
      "text/html": [
       "<div>\n",
       "<style scoped>\n",
       "    .dataframe tbody tr th:only-of-type {\n",
       "        vertical-align: middle;\n",
       "    }\n",
       "\n",
       "    .dataframe tbody tr th {\n",
       "        vertical-align: top;\n",
       "    }\n",
       "\n",
       "    .dataframe thead th {\n",
       "        text-align: right;\n",
       "    }\n",
       "</style>\n",
       "<table border=\"1\" class=\"dataframe\">\n",
       "  <thead>\n",
       "    <tr style=\"text-align: right;\">\n",
       "      <th></th>\n",
       "      <th>X1</th>\n",
       "      <th>X2</th>\n",
       "      <th>X3</th>\n",
       "      <th>X4</th>\n",
       "      <th>X5</th>\n",
       "      <th>X6</th>\n",
       "      <th>X7</th>\n",
       "      <th>X8</th>\n",
       "      <th>Y1</th>\n",
       "      <th>Y2</th>\n",
       "    </tr>\n",
       "  </thead>\n",
       "  <tbody>\n",
       "    <tr>\n",
       "      <th>count</th>\n",
       "      <td>768.000000</td>\n",
       "      <td>768.000000</td>\n",
       "      <td>768.000000</td>\n",
       "      <td>768.000000</td>\n",
       "      <td>768.00000</td>\n",
       "      <td>768.000000</td>\n",
       "      <td>768.000000</td>\n",
       "      <td>768.00000</td>\n",
       "      <td>768.000000</td>\n",
       "      <td>768.000000</td>\n",
       "    </tr>\n",
       "    <tr>\n",
       "      <th>mean</th>\n",
       "      <td>0.764167</td>\n",
       "      <td>671.708333</td>\n",
       "      <td>318.500000</td>\n",
       "      <td>176.604167</td>\n",
       "      <td>5.25000</td>\n",
       "      <td>3.500000</td>\n",
       "      <td>0.234375</td>\n",
       "      <td>2.81250</td>\n",
       "      <td>22.307201</td>\n",
       "      <td>24.587760</td>\n",
       "    </tr>\n",
       "    <tr>\n",
       "      <th>std</th>\n",
       "      <td>0.105777</td>\n",
       "      <td>88.086116</td>\n",
       "      <td>43.626481</td>\n",
       "      <td>45.165950</td>\n",
       "      <td>1.75114</td>\n",
       "      <td>1.118763</td>\n",
       "      <td>0.133221</td>\n",
       "      <td>1.55096</td>\n",
       "      <td>10.090196</td>\n",
       "      <td>9.513306</td>\n",
       "    </tr>\n",
       "    <tr>\n",
       "      <th>min</th>\n",
       "      <td>0.620000</td>\n",
       "      <td>514.500000</td>\n",
       "      <td>245.000000</td>\n",
       "      <td>110.250000</td>\n",
       "      <td>3.50000</td>\n",
       "      <td>2.000000</td>\n",
       "      <td>0.000000</td>\n",
       "      <td>0.00000</td>\n",
       "      <td>6.010000</td>\n",
       "      <td>10.900000</td>\n",
       "    </tr>\n",
       "    <tr>\n",
       "      <th>25%</th>\n",
       "      <td>0.682500</td>\n",
       "      <td>606.375000</td>\n",
       "      <td>294.000000</td>\n",
       "      <td>140.875000</td>\n",
       "      <td>3.50000</td>\n",
       "      <td>2.750000</td>\n",
       "      <td>0.100000</td>\n",
       "      <td>1.75000</td>\n",
       "      <td>12.992500</td>\n",
       "      <td>15.620000</td>\n",
       "    </tr>\n",
       "    <tr>\n",
       "      <th>50%</th>\n",
       "      <td>0.750000</td>\n",
       "      <td>673.750000</td>\n",
       "      <td>318.500000</td>\n",
       "      <td>183.750000</td>\n",
       "      <td>5.25000</td>\n",
       "      <td>3.500000</td>\n",
       "      <td>0.250000</td>\n",
       "      <td>3.00000</td>\n",
       "      <td>18.950000</td>\n",
       "      <td>22.080000</td>\n",
       "    </tr>\n",
       "    <tr>\n",
       "      <th>75%</th>\n",
       "      <td>0.830000</td>\n",
       "      <td>741.125000</td>\n",
       "      <td>343.000000</td>\n",
       "      <td>220.500000</td>\n",
       "      <td>7.00000</td>\n",
       "      <td>4.250000</td>\n",
       "      <td>0.400000</td>\n",
       "      <td>4.00000</td>\n",
       "      <td>31.667500</td>\n",
       "      <td>33.132500</td>\n",
       "    </tr>\n",
       "    <tr>\n",
       "      <th>max</th>\n",
       "      <td>0.980000</td>\n",
       "      <td>808.500000</td>\n",
       "      <td>416.500000</td>\n",
       "      <td>220.500000</td>\n",
       "      <td>7.00000</td>\n",
       "      <td>5.000000</td>\n",
       "      <td>0.400000</td>\n",
       "      <td>5.00000</td>\n",
       "      <td>43.100000</td>\n",
       "      <td>48.030000</td>\n",
       "    </tr>\n",
       "  </tbody>\n",
       "</table>\n",
       "</div>"
      ],
      "text/plain": [
       "               X1          X2          X3          X4         X5          X6  \\\n",
       "count  768.000000  768.000000  768.000000  768.000000  768.00000  768.000000   \n",
       "mean     0.764167  671.708333  318.500000  176.604167    5.25000    3.500000   \n",
       "std      0.105777   88.086116   43.626481   45.165950    1.75114    1.118763   \n",
       "min      0.620000  514.500000  245.000000  110.250000    3.50000    2.000000   \n",
       "25%      0.682500  606.375000  294.000000  140.875000    3.50000    2.750000   \n",
       "50%      0.750000  673.750000  318.500000  183.750000    5.25000    3.500000   \n",
       "75%      0.830000  741.125000  343.000000  220.500000    7.00000    4.250000   \n",
       "max      0.980000  808.500000  416.500000  220.500000    7.00000    5.000000   \n",
       "\n",
       "               X7         X8          Y1          Y2  \n",
       "count  768.000000  768.00000  768.000000  768.000000  \n",
       "mean     0.234375    2.81250   22.307201   24.587760  \n",
       "std      0.133221    1.55096   10.090196    9.513306  \n",
       "min      0.000000    0.00000    6.010000   10.900000  \n",
       "25%      0.100000    1.75000   12.992500   15.620000  \n",
       "50%      0.250000    3.00000   18.950000   22.080000  \n",
       "75%      0.400000    4.00000   31.667500   33.132500  \n",
       "max      0.400000    5.00000   43.100000   48.030000  "
      ]
     },
     "execution_count": 13,
     "metadata": {},
     "output_type": "execute_result"
    }
   ],
   "source": [
    "# Lets Try tp understand our data more \n",
    "print(df.head())\n",
    "df.describe()"
   ]
  },
  {
   "cell_type": "markdown",
   "id": "e00ca1c7-466d-4538-a2a3-f6f42c0f5a38",
   "metadata": {},
   "source": [
    "So, what can we gather from this data - we that features X2 Surface Area, X3 Wall Area , X4 Roof Area has the largest spread (standard deviation). To ensure that we have an accurate statistical model. We must normalise the features to do so. We want to establish the fact that a building with smaller value parameters will have an higher energy efficency. We define energy efficiency  as the lower the heating load and cooling load - the better the energy efficiency . Lets see if there is a correlation between the features and the targets."
   ]
  },
  {
   "cell_type": "code",
   "execution_count": 14,
   "id": "ab2d366a-4b5f-4eae-9427-6aca29977db2",
   "metadata": {
    "tags": []
   },
   "outputs": [
    {
     "name": "stdout",
     "output_type": "stream",
     "text": [
      "['X1', 'X2', 'X3', 'X4', 'X5', 'X6', 'X7', 'X8'] ['Y1', 'Y2']\n",
      "X1 Y1 0.6222721790646626 1.5912736997124078e-83 True False\n",
      "X2 Y1 -0.6581202267776216 1.6869072902148853e-96 True True\n",
      "X3 Y1 0.4556711568983096 1.2218886883327138e-40 True True\n",
      "X4 Y1 -0.8618282529058219 4.914880966405315e-228 True True\n",
      "X5 Y1 0.8894306741007043 1.1409232650145028e-262 True False\n",
      "X6 Y1 -0.0025865339156387925 0.9429492916266334 False True\n",
      "X7 Y1 0.2698409963206335 2.795962177593747e-14 True True\n",
      "X8 Y1 0.08736759370846414 0.015440000762167156 False True\n",
      "X1 Y2 0.6343390663353593 1.0608759912587051e-87 True False\n",
      "X2 Y2 -0.6729989333544866 2.005212321080104e-102 True True\n",
      "X3 Y2 0.4271169976671334 2.1081966043426875e-35 True True\n",
      "X4 Y2 -0.862546603524974 7.732002122019067e-229 True True\n",
      "X5 Y2 0.8957851688924501 5.85577061301801e-272 True False\n",
      "X6 Y2 0.014289597576170227 0.6925623867167326 False True\n",
      "X7 Y2 0.20750499116036222 6.456865072124254e-09 True True\n",
      "X8 Y2 0.05052511880567566 0.16187117468132903 False True\n"
     ]
    }
   ],
   "source": [
    "X = list(df.columns)[:-2]\n",
    "Y = list(df.columns)[-2:]\n",
    "print(X, Y)\n",
    "for i in Y: \n",
    "    for j in X:\n",
    "        pearsonCoef, pValue = stats.pearsonr(df[j], df[i])\n",
    "        answer1 = (pValue <= 1/1000)\n",
    "        answer2 = (pearsonCoef <= 0.5) or (pearsonCoef <= -0.5)\n",
    "        print(j, i, pearsonCoef, pValue, answer1, answer2) "
   ]
  },
  {
   "cell_type": "markdown",
   "id": "01584ef8-b8ac-4dc1-9ff8-35ea1b21f3d1",
   "metadata": {},
   "source": [
    "After evauating the pearson coefficent and their pValues. We find that for Y1 5 features have a strong pearson coeffiecent (i.e.more than 0.5 and less than -0.5) and 6 features meet the requirement that the pValue is below 1/1000 . For Y2 6 features have a strong pearson coefficent and 6 meet the pValue requirement. We highlight the features that our consistent across the board -  fEATURES X2 Surface Area, X3 Wall Area and X4 Roof Area all have strong pearson coefficents and pValues that meet the requirement for both Y1 and Y2. Hence we can look to study these relationships in relation to Y1 and Y2. However, we do find that the other features either have weak pearson coeffients or pValues that dont meet the requirement. This indicates that the impact of these features are minimal by themselves but can have more influnce in combination with other features."
   ]
  },
  {
   "cell_type": "markdown",
   "id": "ef79886a-2a8a-499d-9469-51207a8a787e",
   "metadata": {},
   "source": [
    "#### Data Normalisation\n",
    "\n",
    "We now look to normalise our data."
   ]
  },
  {
   "cell_type": "code",
   "execution_count": 15,
   "id": "65635453-1922-4e22-87a1-33e7cb9127fb",
   "metadata": {
    "tags": []
   },
   "outputs": [
    {
     "data": {
      "text/html": [
       "<div>\n",
       "<style scoped>\n",
       "    .dataframe tbody tr th:only-of-type {\n",
       "        vertical-align: middle;\n",
       "    }\n",
       "\n",
       "    .dataframe tbody tr th {\n",
       "        vertical-align: top;\n",
       "    }\n",
       "\n",
       "    .dataframe thead th {\n",
       "        text-align: right;\n",
       "    }\n",
       "</style>\n",
       "<table border=\"1\" class=\"dataframe\">\n",
       "  <thead>\n",
       "    <tr style=\"text-align: right;\">\n",
       "      <th></th>\n",
       "      <th>X1</th>\n",
       "      <th>X2</th>\n",
       "      <th>X3</th>\n",
       "      <th>X4</th>\n",
       "      <th>X5</th>\n",
       "      <th>X6</th>\n",
       "      <th>X7</th>\n",
       "      <th>X8</th>\n",
       "      <th>Y1</th>\n",
       "      <th>Y2</th>\n",
       "    </tr>\n",
       "  </thead>\n",
       "  <tbody>\n",
       "    <tr>\n",
       "      <th>0</th>\n",
       "      <td>2.040447</td>\n",
       "      <td>-1.784712</td>\n",
       "      <td>-0.561586</td>\n",
       "      <td>-1.469119</td>\n",
       "      <td>0.999349</td>\n",
       "      <td>-1.340767</td>\n",
       "      <td>-1.7593</td>\n",
       "      <td>-1.813393</td>\n",
       "      <td>-0.669680</td>\n",
       "      <td>-0.342443</td>\n",
       "    </tr>\n",
       "    <tr>\n",
       "      <th>1</th>\n",
       "      <td>2.040447</td>\n",
       "      <td>-1.784712</td>\n",
       "      <td>-0.561586</td>\n",
       "      <td>-1.469119</td>\n",
       "      <td>0.999349</td>\n",
       "      <td>-0.446922</td>\n",
       "      <td>-1.7593</td>\n",
       "      <td>-1.813393</td>\n",
       "      <td>-0.669680</td>\n",
       "      <td>-0.342443</td>\n",
       "    </tr>\n",
       "    <tr>\n",
       "      <th>2</th>\n",
       "      <td>2.040447</td>\n",
       "      <td>-1.784712</td>\n",
       "      <td>-0.561586</td>\n",
       "      <td>-1.469119</td>\n",
       "      <td>0.999349</td>\n",
       "      <td>0.446922</td>\n",
       "      <td>-1.7593</td>\n",
       "      <td>-1.813393</td>\n",
       "      <td>-0.669680</td>\n",
       "      <td>-0.342443</td>\n",
       "    </tr>\n",
       "    <tr>\n",
       "      <th>3</th>\n",
       "      <td>2.040447</td>\n",
       "      <td>-1.784712</td>\n",
       "      <td>-0.561586</td>\n",
       "      <td>-1.469119</td>\n",
       "      <td>0.999349</td>\n",
       "      <td>1.340767</td>\n",
       "      <td>-1.7593</td>\n",
       "      <td>-1.813393</td>\n",
       "      <td>-0.669680</td>\n",
       "      <td>-0.342443</td>\n",
       "    </tr>\n",
       "    <tr>\n",
       "      <th>4</th>\n",
       "      <td>1.284142</td>\n",
       "      <td>-1.228438</td>\n",
       "      <td>0.000000</td>\n",
       "      <td>-1.197897</td>\n",
       "      <td>0.999349</td>\n",
       "      <td>-1.340767</td>\n",
       "      <td>-1.7593</td>\n",
       "      <td>-1.813393</td>\n",
       "      <td>-0.145409</td>\n",
       "      <td>0.388113</td>\n",
       "    </tr>\n",
       "  </tbody>\n",
       "</table>\n",
       "</div>"
      ],
      "text/plain": [
       "         X1        X2        X3        X4        X5        X6      X7  \\\n",
       "0  2.040447 -1.784712 -0.561586 -1.469119  0.999349 -1.340767 -1.7593   \n",
       "1  2.040447 -1.784712 -0.561586 -1.469119  0.999349 -0.446922 -1.7593   \n",
       "2  2.040447 -1.784712 -0.561586 -1.469119  0.999349  0.446922 -1.7593   \n",
       "3  2.040447 -1.784712 -0.561586 -1.469119  0.999349  1.340767 -1.7593   \n",
       "4  1.284142 -1.228438  0.000000 -1.197897  0.999349 -1.340767 -1.7593   \n",
       "\n",
       "         X8        Y1        Y2  \n",
       "0 -1.813393 -0.669680 -0.342443  \n",
       "1 -1.813393 -0.669680 -0.342443  \n",
       "2 -1.813393 -0.669680 -0.342443  \n",
       "3 -1.813393 -0.669680 -0.342443  \n",
       "4 -1.813393 -0.145409  0.388113  "
      ]
     },
     "execution_count": 15,
     "metadata": {},
     "output_type": "execute_result"
    }
   ],
   "source": [
    "cols = list(df.columns) \n",
    "\n",
    "for col in cols:\n",
    "    df[col] = (df[col] - df[col].mean())/df[col].std()\n",
    "    \n",
    "df.head()"
   ]
  },
  {
   "cell_type": "markdown",
   "id": "799a9df9-a617-4575-87a5-8fb129c6c58f",
   "metadata": {
    "tags": []
   },
   "source": [
    "#### Data Visualisation"
   ]
  },
  {
   "cell_type": "markdown",
   "id": "8a02c759-1883-40ff-be6a-75622b0fee19",
   "metadata": {
    "tags": []
   },
   "source": [
    "Lets explore the relationships between each feature and the Target.\n",
    "We will focus on the following features due to to its strong pearson coeficent and meeting the pValue requirement. \n",
    "* X2 Surface Area\n",
    "* X3 Wall Area\n",
    "* X4 Roof Area\n"
   ]
  },
  {
   "cell_type": "code",
   "execution_count": 16,
   "id": "5ca64ddf-7edf-469d-9720-20a22aaae390",
   "metadata": {
    "tags": []
   },
   "outputs": [],
   "source": [
    "# Establish relationships between Xn and Yn \n",
    "\n",
    "# X2 \n",
    "X2 = df['X2']\n",
    "Y1 = df['Y1'] \n",
    "fit21 = np.polyfit(X2, Y1, 1) \n",
    "\n",
    "X2 = df['X2']\n",
    "Y2 = df['Y2']\n",
    "fit22 = np.polyfit(X2, Y2, 1) \n",
    "\n",
    "# X3\n",
    "X3 = df['X3']\n",
    "Y1 = df['Y1']\n",
    "fit31 = np.polyfit(X3, Y1, 1) \n",
    "\n",
    "X3 = df['X3']\n",
    "Y2 = df['Y2']\n",
    "fit32 = np.polyfit(X3, Y2, 1) \n",
    "\n",
    "#X4\n",
    "X4 = df['X4']\n",
    "Y1 = df['Y1']\n",
    "fit41 = np.polyfit(X4, Y1, 1) \n",
    "\n",
    "X4 = df['X4']\n",
    "Y2 = df['Y2']\n",
    "fit42 = np.polyfit(X4, Y2, 1) "
   ]
  },
  {
   "cell_type": "markdown",
   "id": "c6fd9b2b-1d88-4ab1-8dc0-b18e33feb916",
   "metadata": {},
   "source": [
    "Now we plot ..."
   ]
  },
  {
   "cell_type": "code",
   "execution_count": 17,
   "id": "d07e3f85-1e01-4efc-97ed-78950eb228c4",
   "metadata": {
    "tags": []
   },
   "outputs": [
    {
     "data": {
      "text/plain": [
       "Text(0.5, 23.52222222222222, 'Roof Area')"
      ]
     },
     "execution_count": 17,
     "metadata": {},
     "output_type": "execute_result"
    },
    {
     "data": {
      "image/png": "[encoded data removed]",
      "text/plain": [
       "<Figure size 2000x1000 with 6 Axes>"
      ]
     },
     "metadata": {},
     "output_type": "display_data"
    }
   ],
   "source": [
    "#Our plots \n",
    "\n",
    "fig = plt.figure()\n",
    "fig.suptitle('The relationship between highlighted features and cooling load and heating load')\n",
    "\n",
    "ax0 = fig.add_subplot(3,2,1)\n",
    "ax1 = fig.add_subplot(3,2,2)\n",
    "ax2 = fig.add_subplot(3,2,3)\n",
    "ax3 = fig.add_subplot(3,2,4)\n",
    "ax4 = fig.add_subplot(3,2,5)\n",
    "ax5 = fig.add_subplot(3,2,6)\n",
    "\n",
    "fig.tight_layout(pad =1.5)\n",
    "# x2 \n",
    "# plot 1\n",
    "df.plot(kind = 'scatter', x = 'X2' , y = 'Y1', figsize = (20,10), color = 'blue', ax = ax0)\n",
    "ax0.plot(X2, fit21[0]*X2 + fit21[1], color = 'red')\n",
    "ax0.set_title('The relationship between Heating Load and Surface Area')\n",
    "ax0.set_ylabel('Heating Load')\n",
    "ax0.set_xlabel('Surface Area') \n",
    "\n",
    "# plot2 \n",
    "df.plot(kind = 'scatter', x = 'X2' , y = 'Y2', figsize = (20,10), color = 'black', ax = ax1)\n",
    "ax1.plot(X2, fit22[0]*X2 + fit22[1], color = 'red')\n",
    "ax1.set_title('The relationship between Cooling Load and Surface Area')\n",
    "ax1.set_ylabel('Cooling Load')\n",
    "ax1.set_xlabel('Surface Area') \n",
    "\n",
    "# x3\n",
    "# plot 1\n",
    "df.plot(kind = 'scatter', x = 'X3' , y = 'Y1', figsize = (20,10), color = 'yellow', ax = ax2)\n",
    "ax2.plot(X2, fit31[0]*X2 + fit31[1], color = 'red')\n",
    "ax2.set_title('The relationship between Heating Load and Wall Area')\n",
    "ax2.set_ylabel('Heating Load')\n",
    "ax2.set_xlabel('Wall Area') \n",
    "\n",
    "# plot2 \n",
    "df.plot(kind = 'scatter', x = 'X3' , y = 'Y2', figsize = (20,10), color = 'green', ax = ax3)\n",
    "ax3.plot(X2, fit32[0]*X2 + fit32[1], color = 'red')\n",
    "ax3.set_title('The relationship between Cooling Load and Wall Area')\n",
    "ax3.set_ylabel('Cooling Load')\n",
    "ax3.set_xlabel('Wall Area') \n",
    "\n",
    "# x4 \n",
    "# plot 1\n",
    "df.plot(kind = 'scatter', x = 'X4' , y = 'Y1', figsize = (20,10), color = 'orange', ax = ax4)\n",
    "ax4.plot(X2, fit41[0]*X2 + fit41[1], color = 'red')\n",
    "ax4.set_title('The relationship between Heating Load and Roof Area')\n",
    "ax4.set_ylabel('Heating Load')\n",
    "ax4.set_xlabel('Roof Area') \n",
    "\n",
    "# plot2 \n",
    "df.plot(kind = 'scatter', x = 'X4' , y = 'Y2', figsize = (20,10), color = 'pink', ax = ax5)\n",
    "ax5.plot(X2, fit42[0]*X2 + fit42[1], color = 'red')\n",
    "ax5.set_title('The relationship between Cooling Load and Roof Area')\n",
    "ax5.set_ylabel('Cooling Load')\n",
    "ax5.set_xlabel('Roof Area') "
   ]
  },
  {
   "cell_type": "markdown",
   "id": "85cadc63-381d-45fd-9c78-6f8f7eba7631",
   "metadata": {},
   "source": [
    "#### Explaining the data\n",
    "We can see that there tends to be value concentration along lines in the features and for some values this has no impact on the cooling load and heating load. For the lack of variation in the features thats mostly due to the results of the simulations - in actuality we should find that there is variation on the values of the features."
   ]
  },
  {
   "cell_type": "markdown",
   "id": "c1032b2b-86d7-4dc7-89db-c9dd1b5359d8",
   "metadata": {
    "tags": []
   },
   "source": [
    "#### Models"
   ]
  },
  {
   "cell_type": "code",
   "execution_count": 18,
   "id": "a1a33243-1313-4058-9252-91be91ab971a",
   "metadata": {
    "tags": []
   },
   "outputs": [],
   "source": [
    "#Sci-kit learn inporting \n",
    "from sklearn.linear_model import LinearRegression\n",
    "from sklearn.linear_model import Ridge\n",
    "from sklearn.model_selection import train_test_split\n",
    "from sklearn.metrics import r2_score\n",
    "from sklearn.model_selection import cross_val_score\n",
    "from sklearn.model_selection import cross_val_predict\n",
    "from sklearn.model_selection import GridSearchCV"
   ]
  },
  {
   "cell_type": "code",
   "execution_count": 19,
   "id": "86d49e5f-319e-4787-aa5b-3e7cd76a1e70",
   "metadata": {
    "tags": []
   },
   "outputs": [],
   "source": [
    "Y1 = df[['Y1']]\n",
    "Y2 = df[['Y2']]\n",
    "X2 = df[['X2']]\n",
    "X = df[['X1','X2','X3','X4','X5','X6']]"
   ]
  },
  {
   "cell_type": "markdown",
   "id": "d3195f44-de30-4de6-9b8f-b9644e32c104",
   "metadata": {
    "tags": []
   },
   "source": [
    "#### Model One: The Relationship between Surface Area and Energy Efficiency (Simple Linear Regression).\n",
    "\n"
   ]
  },
  {
   "cell_type": "markdown",
   "id": "8d7930bf-1e4e-4603-ade3-9a13a75e9f4a",
   "metadata": {},
   "source": [
    "##### Model Devlopment"
   ]
  },
  {
   "cell_type": "code",
   "execution_count": 20,
   "id": "1a756f02-6ff4-4fc4-bc35-fbb61b385483",
   "metadata": {
    "tags": []
   },
   "outputs": [
    {
     "data": {
      "text/html": [
       "<style>#sk-container-id-1 {color: black;}#sk-container-id-1 pre{padding: 0;}#sk-container-id-1 div.sk-toggleable {background-color: white;}#sk-container-id-1 label.sk-toggleable__label {cursor: pointer;display: block;width: 100%;margin-bottom: 0;padding: 0.3em;box-sizing: border-box;text-align: center;}#sk-container-id-1 label.sk-toggleable__label-arrow:before {content: \"▸\";float: left;margin-right: 0.25em;color: #696969;}#sk-container-id-1 label.sk-toggleable__label-arrow:hover:before {color: black;}#sk-container-id-1 div.sk-estimator:hover label.sk-toggleable__label-arrow:before {color: black;}#sk-container-id-1 div.sk-toggleable__content {max-height: 0;max-width: 0;overflow: hidden;text-align: left;background-color: #f0f8ff;}#sk-container-id-1 div.sk-toggleable__content pre {margin: 0.2em;color: black;border-radius: 0.25em;background-color: #f0f8ff;}#sk-container-id-1 input.sk-toggleable__control:checked~div.sk-toggleable__content {max-height: 200px;max-width: 100%;overflow: auto;}#sk-container-id-1 input.sk-toggleable__control:checked~label.sk-toggleable__label-arrow:before {content: \"▾\";}#sk-container-id-1 div.sk-estimator input.sk-toggleable__control:checked~label.sk-toggleable__label {background-color: #d4ebff;}#sk-container-id-1 div.sk-label input.sk-toggleable__control:checked~label.sk-toggleable__label {background-color: #d4ebff;}#sk-container-id-1 input.sk-hidden--visually {border: 0;clip: rect(1px 1px 1px 1px);clip: rect(1px, 1px, 1px, 1px);height: 1px;margin: -1px;overflow: hidden;padding: 0;position: absolute;width: 1px;}#sk-container-id-1 div.sk-estimator {font-family: monospace;background-color: #f0f8ff;border: 1px dotted black;border-radius: 0.25em;box-sizing: border-box;margin-bottom: 0.5em;}#sk-container-id-1 div.sk-estimator:hover {background-color: #d4ebff;}#sk-container-id-1 div.sk-parallel-item::after {content: \"\";width: 100%;border-bottom: 1px solid gray;flex-grow: 1;}#sk-container-id-1 div.sk-label:hover label.sk-toggleable__label {background-color: #d4ebff;}#sk-container-id-1 div.sk-serial::before {content: \"\";position: absolute;border-left: 1px solid gray;box-sizing: border-box;top: 0;bottom: 0;left: 50%;z-index: 0;}#sk-container-id-1 div.sk-serial {display: flex;flex-direction: column;align-items: center;background-color: white;padding-right: 0.2em;padding-left: 0.2em;position: relative;}#sk-container-id-1 div.sk-item {position: relative;z-index: 1;}#sk-container-id-1 div.sk-parallel {display: flex;align-items: stretch;justify-content: center;background-color: white;position: relative;}#sk-container-id-1 div.sk-item::before, #sk-container-id-1 div.sk-parallel-item::before {content: \"\";position: absolute;border-left: 1px solid gray;box-sizing: border-box;top: 0;bottom: 0;left: 50%;z-index: -1;}#sk-container-id-1 div.sk-parallel-item {display: flex;flex-direction: column;z-index: 1;position: relative;background-color: white;}#sk-container-id-1 div.sk-parallel-item:first-child::after {align-self: flex-end;width: 50%;}#sk-container-id-1 div.sk-parallel-item:last-child::after {align-self: flex-start;width: 50%;}#sk-container-id-1 div.sk-parallel-item:only-child::after {width: 0;}#sk-container-id-1 div.sk-dashed-wrapped {border: 1px dashed gray;margin: 0 0.4em 0.5em 0.4em;box-sizing: border-box;padding-bottom: 0.4em;background-color: white;}#sk-container-id-1 div.sk-label label {font-family: monospace;font-weight: bold;display: inline-block;line-height: 1.2em;}#sk-container-id-1 div.sk-label-container {text-align: center;}#sk-container-id-1 div.sk-container {/* jupyter's `normalize.less` sets `[hidden] { display: none; }` but bootstrap.min.css set `[hidden] { display: none !important; }` so we also need the `!important` here to be able to override the default hidden behavior on the sphinx rendered scikit-learn.org. See: https://github.com/scikit-learn/scikit-learn/issues/21755 */display: inline-block !important;position: relative;}#sk-container-id-1 div.sk-text-repr-fallback {display: none;}</style><div id=\"sk-container-id-1\" class=\"sk-top-container\"><div class=\"sk-text-repr-fallback\"><pre>LinearRegression()</pre><b>In a Jupyter environment, please rerun this cell to show the HTML representation or trust the notebook. <br />On GitHub, the HTML representation is unable to render, please try loading this page with nbviewer.org.</b></div><div class=\"sk-container\" hidden><div class=\"sk-item\"><div class=\"sk-estimator sk-toggleable\"><input class=\"sk-toggleable__control sk-hidden--visually\" id=\"sk-estimator-id-1\" type=\"checkbox\" checked><label for=\"sk-estimator-id-1\" class=\"sk-toggleable__label sk-toggleable__label-arrow\">LinearRegression</label><div class=\"sk-toggleable__content\"><pre>LinearRegression()</pre></div></div></div></div></div>"
      ],
      "text/plain": [
       "LinearRegression()"
      ]
     },
     "execution_count": 20,
     "metadata": {},
     "output_type": "execute_result"
    }
   ],
   "source": [
    "#Constructing our model - Heating Load = Y1 \n",
    "lm21 = LinearRegression() #Y1\n",
    "lm21 "
   ]
  },
  {
   "cell_type": "code",
   "execution_count": 21,
   "id": "93b5d339-14a5-4f58-a3b0-da5adbfcb91d",
   "metadata": {
    "tags": []
   },
   "outputs": [
    {
     "name": "stdout",
     "output_type": "stream",
     "text": [
      "Coefficent: [[-0.6565893]]\n",
      "Intercept: [0.00598556]\n"
     ]
    }
   ],
   "source": [
    "#Splitting the data to training and testing  data \n",
    "x1_train, x1_test, y1_train, y1_test = train_test_split(X2, Y1,\n",
    "                                                        test_size = 0.1,\n",
    "                                                        random_state = 0)\n",
    "lm21.fit(x1_train, y1_train)\n",
    "\n",
    "print('Coefficent:',lm21.coef_)\n",
    "print('Intercept:',lm21.intercept_)"
   ]
  },
  {
   "cell_type": "code",
   "execution_count": 22,
   "id": "3d4f6db9-80d8-40dc-9a6b-e41285f55bb7",
   "metadata": {
    "tags": []
   },
   "outputs": [
    {
     "name": "stdout",
     "output_type": "stream",
     "text": [
      "Mean Absolute Error: 0.6780825520413826\n",
      "Mean Squared Error: 0.7289981488185335\n",
      "r2_score: 0.37691900392285504\n"
     ]
    }
   ],
   "source": [
    "y1_pred = lm21.predict(x1_test)\n",
    "\n",
    "calc1 = np.mean(np.absolute(y1_pred - y1_test))\n",
    "calc2 = np.mean((y1_pred - y1_test)**2)\n",
    "calc3 = r2_score(y1_test ,y1_pred )\n",
    "\n",
    "print('Mean Absolute Error:', calc1)\n",
    "print('Mean Squared Error:', calc2)\n",
    "print('r2_score:', calc3)"
   ]
  },
  {
   "cell_type": "code",
   "execution_count": 23,
   "id": "abdd0afc-04a4-4ade-b4be-faa746cfb0ab",
   "metadata": {
    "tags": []
   },
   "outputs": [
    {
     "data": {
      "text/html": [
       "<style>#sk-container-id-2 {color: black;}#sk-container-id-2 pre{padding: 0;}#sk-container-id-2 div.sk-toggleable {background-color: white;}#sk-container-id-2 label.sk-toggleable__label {cursor: pointer;display: block;width: 100%;margin-bottom: 0;padding: 0.3em;box-sizing: border-box;text-align: center;}#sk-container-id-2 label.sk-toggleable__label-arrow:before {content: \"▸\";float: left;margin-right: 0.25em;color: #696969;}#sk-container-id-2 label.sk-toggleable__label-arrow:hover:before {color: black;}#sk-container-id-2 div.sk-estimator:hover label.sk-toggleable__label-arrow:before {color: black;}#sk-container-id-2 div.sk-toggleable__content {max-height: 0;max-width: 0;overflow: hidden;text-align: left;background-color: #f0f8ff;}#sk-container-id-2 div.sk-toggleable__content pre {margin: 0.2em;color: black;border-radius: 0.25em;background-color: #f0f8ff;}#sk-container-id-2 input.sk-toggleable__control:checked~div.sk-toggleable__content {max-height: 200px;max-width: 100%;overflow: auto;}#sk-container-id-2 input.sk-toggleable__control:checked~label.sk-toggleable__label-arrow:before {content: \"▾\";}#sk-container-id-2 div.sk-estimator input.sk-toggleable__control:checked~label.sk-toggleable__label {background-color: #d4ebff;}#sk-container-id-2 div.sk-label input.sk-toggleable__control:checked~label.sk-toggleable__label {background-color: #d4ebff;}#sk-container-id-2 input.sk-hidden--visually {border: 0;clip: rect(1px 1px 1px 1px);clip: rect(1px, 1px, 1px, 1px);height: 1px;margin: -1px;overflow: hidden;padding: 0;position: absolute;width: 1px;}#sk-container-id-2 div.sk-estimator {font-family: monospace;background-color: #f0f8ff;border: 1px dotted black;border-radius: 0.25em;box-sizing: border-box;margin-bottom: 0.5em;}#sk-container-id-2 div.sk-estimator:hover {background-color: #d4ebff;}#sk-container-id-2 div.sk-parallel-item::after {content: \"\";width: 100%;border-bottom: 1px solid gray;flex-grow: 1;}#sk-container-id-2 div.sk-label:hover label.sk-toggleable__label {background-color: #d4ebff;}#sk-container-id-2 div.sk-serial::before {content: \"\";position: absolute;border-left: 1px solid gray;box-sizing: border-box;top: 0;bottom: 0;left: 50%;z-index: 0;}#sk-container-id-2 div.sk-serial {display: flex;flex-direction: column;align-items: center;background-color: white;padding-right: 0.2em;padding-left: 0.2em;position: relative;}#sk-container-id-2 div.sk-item {position: relative;z-index: 1;}#sk-container-id-2 div.sk-parallel {display: flex;align-items: stretch;justify-content: center;background-color: white;position: relative;}#sk-container-id-2 div.sk-item::before, #sk-container-id-2 div.sk-parallel-item::before {content: \"\";position: absolute;border-left: 1px solid gray;box-sizing: border-box;top: 0;bottom: 0;left: 50%;z-index: -1;}#sk-container-id-2 div.sk-parallel-item {display: flex;flex-direction: column;z-index: 1;position: relative;background-color: white;}#sk-container-id-2 div.sk-parallel-item:first-child::after {align-self: flex-end;width: 50%;}#sk-container-id-2 div.sk-parallel-item:last-child::after {align-self: flex-start;width: 50%;}#sk-container-id-2 div.sk-parallel-item:only-child::after {width: 0;}#sk-container-id-2 div.sk-dashed-wrapped {border: 1px dashed gray;margin: 0 0.4em 0.5em 0.4em;box-sizing: border-box;padding-bottom: 0.4em;background-color: white;}#sk-container-id-2 div.sk-label label {font-family: monospace;font-weight: bold;display: inline-block;line-height: 1.2em;}#sk-container-id-2 div.sk-label-container {text-align: center;}#sk-container-id-2 div.sk-container {/* jupyter's `normalize.less` sets `[hidden] { display: none; }` but bootstrap.min.css set `[hidden] { display: none !important; }` so we also need the `!important` here to be able to override the default hidden behavior on the sphinx rendered scikit-learn.org. See: https://github.com/scikit-learn/scikit-learn/issues/21755 */display: inline-block !important;position: relative;}#sk-container-id-2 div.sk-text-repr-fallback {display: none;}</style><div id=\"sk-container-id-2\" class=\"sk-top-container\"><div class=\"sk-text-repr-fallback\"><pre>LinearRegression()</pre><b>In a Jupyter environment, please rerun this cell to show the HTML representation or trust the notebook. <br />On GitHub, the HTML representation is unable to render, please try loading this page with nbviewer.org.</b></div><div class=\"sk-container\" hidden><div class=\"sk-item\"><div class=\"sk-estimator sk-toggleable\"><input class=\"sk-toggleable__control sk-hidden--visually\" id=\"sk-estimator-id-2\" type=\"checkbox\" checked><label for=\"sk-estimator-id-2\" class=\"sk-toggleable__label sk-toggleable__label-arrow\">LinearRegression</label><div class=\"sk-toggleable__content\"><pre>LinearRegression()</pre></div></div></div></div></div>"
      ],
      "text/plain": [
       "LinearRegression()"
      ]
     },
     "execution_count": 23,
     "metadata": {},
     "output_type": "execute_result"
    }
   ],
   "source": [
    "#Constructing our model - Heating Load = Y2\n",
    "lm22 = LinearRegression() #Y2\n",
    "lm22"
   ]
  },
  {
   "cell_type": "code",
   "execution_count": 24,
   "id": "a46c0603-b6b0-4f40-bb82-2051af41fdc7",
   "metadata": {
    "tags": []
   },
   "outputs": [
    {
     "name": "stdout",
     "output_type": "stream",
     "text": [
      "Coefficent: [[-0.67024549]]\n",
      "Intercept: [0.00765209]\n"
     ]
    }
   ],
   "source": [
    "\n",
    "x2_train, x2_test, y2_train, y2_test = train_test_split(X2, Y2,\n",
    "                                                        test_size = 0.1,\n",
    "                                                        random_state = 0)\n",
    "\n",
    "lm22.fit(x2_train, y2_train)\n",
    "\n",
    "print('Coefficent:', lm22.coef_)\n",
    "print('Intercept:', lm22.intercept_)"
   ]
  },
  {
   "cell_type": "code",
   "execution_count": 25,
   "id": "1023021a-4054-4b47-a25e-6a5309d74eba",
   "metadata": {
    "tags": []
   },
   "outputs": [
    {
     "name": "stdout",
     "output_type": "stream",
     "text": [
      "Mean Absolute Error: 0.615525146820025\n",
      "Mean Squared Error: 0.6083379261438595\n",
      "r2_score: 0.4386695289470356\n"
     ]
    }
   ],
   "source": [
    "y2_pred = lm22.predict(x2_test)\n",
    "\n",
    "calc1 = np.mean(np.absolute(y2_pred - y2_test))\n",
    "calc2 = np.mean((y2_pred - y2_test)**2)\n",
    "calc3 = r2_score(y2_test ,y2_pred )\n",
    "\n",
    "print('Mean Absolute Error:', calc1)\n",
    "print('Mean Squared Error:', calc2)\n",
    "print('r2_score:', calc3)"
   ]
  },
  {
   "cell_type": "markdown",
   "id": "fe512098-7b83-4acd-a664-59ad75c1c02b",
   "metadata": {
    "tags": []
   },
   "source": [
    "##### Notes\n",
    "Both Target models have reasonably High MAE and High MSE and reasonably close to average R2 score meaning that this model can explain some of the variation around the mean but not all of it. This infers that adding other features to the model can improve it."
   ]
  },
  {
   "cell_type": "markdown",
   "id": "08727379-a3a4-4502-a52c-777117cde18f",
   "metadata": {
    "tags": []
   },
   "source": [
    "##### Model Evalation "
   ]
  },
  {
   "cell_type": "code",
   "execution_count": 26,
   "id": "e85fa584-cb1b-48f8-971f-abdb707b944c",
   "metadata": {
    "tags": []
   },
   "outputs": [
    {
     "name": "stdout",
     "output_type": "stream",
     "text": [
      "[-0.09276198  0.37743758  0.37713888  0.50071802  0.45186425  0.40416523\n",
      "  0.61145572  0.33438984  0.357963    0.40857801]\n",
      "The mean of the folds (r^2 Score): 0.3730948552437254\n",
      "The standard deviation of the folds (r^2 Score): 0.17329670304663733\n"
     ]
    }
   ],
   "source": [
    "# Cooling Load \n",
    "R2 = cross_val_score(lm21 , X2 , Y1, cv = 10) \n",
    "print(R2)\n",
    "print('The mean of the folds (r^2 Score):', R2.mean())\n",
    "print('The standard deviation of the folds (r^2 Score):', R2.std())"
   ]
  },
  {
   "cell_type": "code",
   "execution_count": 27,
   "id": "c0254e5d-85ff-41c4-8cc2-a93c757d982c",
   "metadata": {
    "tags": []
   },
   "outputs": [
    {
     "data": {
      "text/plain": [
       "array([[1.27946705],\n",
       "       [1.27946705],\n",
       "       [1.27946705],\n",
       "       [1.27946705],\n",
       "       [0.89967653]])"
      ]
     },
     "execution_count": 27,
     "metadata": {},
     "output_type": "execute_result"
    }
   ],
   "source": [
    "yhat = cross_val_predict(lm21, X2, Y1, cv = 10)\n",
    "yhat[0:5]"
   ]
  },
  {
   "cell_type": "code",
   "execution_count": 28,
   "id": "fe35ae9e-7e65-4e0a-aaeb-4af30f5e81c1",
   "metadata": {
    "tags": []
   },
   "outputs": [
    {
     "name": "stdout",
     "output_type": "stream",
     "text": [
      "[0.15316676 0.3971956  0.37849669 0.48214685 0.46173659 0.41106411\n",
      " 0.60925493 0.37161631 0.43028061 0.45869005]\n",
      "The mean of the folds (r^2 Score): 0.41536484974132754\n",
      "The standard deviation of the folds (r^2 Score): 0.10893701866770569\n"
     ]
    }
   ],
   "source": [
    "# Heating load \n",
    "R2 = cross_val_score(lm22 , X2 , Y2, cv = 10) \n",
    "print(R2)\n",
    "print('The mean of the folds (r^2 Score):', R2.mean())\n",
    "print('The standard deviation of the folds (r^2 Score):', R2.std())"
   ]
  },
  {
   "cell_type": "code",
   "execution_count": 29,
   "id": "43a240a4-34bb-4a18-b89a-e45354f56964",
   "metadata": {
    "tags": []
   },
   "outputs": [
    {
     "data": {
      "text/plain": [
       "array([[1.27608092],\n",
       "       [1.27608092],\n",
       "       [1.27608092],\n",
       "       [1.27608092],\n",
       "       [0.89087405]])"
      ]
     },
     "execution_count": 29,
     "metadata": {},
     "output_type": "execute_result"
    }
   ],
   "source": [
    "yhat = cross_val_predict(lm22, X2, Y2, cv = 10)\n",
    "yhat[0:5]"
   ]
  },
  {
   "cell_type": "markdown",
   "id": "3a79892c-5799-4c6f-9bb4-7aafdc042be6",
   "metadata": {
    "tags": []
   },
   "source": [
    "##### Notes\n",
    "The score from cross validation follows the evaluation of our r2 score from looking at one split. The R2 score is not strong enough across the board for us to establish that the feature influences the target by alot. Other features must be added to improve the model."
   ]
  },
  {
   "cell_type": "markdown",
   "id": "339590dc-968b-48fd-8f3a-ab4dd659489b",
   "metadata": {
    "tags": []
   },
   "source": [
    "#### Model Two: The Relationship between All Features and Energy Efficiency (Multiple Linear Regression)."
   ]
  },
  {
   "cell_type": "markdown",
   "id": "dc815c69-e08d-43ce-ad33-1557af0502b4",
   "metadata": {},
   "source": [
    "##### Model Development "
   ]
  },
  {
   "cell_type": "code",
   "execution_count": 30,
   "id": "b68025da-a33a-466e-8b68-797ae10705f4",
   "metadata": {
    "tags": []
   },
   "outputs": [
    {
     "data": {
      "text/html": [
       "<style>#sk-container-id-3 {color: black;}#sk-container-id-3 pre{padding: 0;}#sk-container-id-3 div.sk-toggleable {background-color: white;}#sk-container-id-3 label.sk-toggleable__label {cursor: pointer;display: block;width: 100%;margin-bottom: 0;padding: 0.3em;box-sizing: border-box;text-align: center;}#sk-container-id-3 label.sk-toggleable__label-arrow:before {content: \"▸\";float: left;margin-right: 0.25em;color: #696969;}#sk-container-id-3 label.sk-toggleable__label-arrow:hover:before {color: black;}#sk-container-id-3 div.sk-estimator:hover label.sk-toggleable__label-arrow:before {color: black;}#sk-container-id-3 div.sk-toggleable__content {max-height: 0;max-width: 0;overflow: hidden;text-align: left;background-color: #f0f8ff;}#sk-container-id-3 div.sk-toggleable__content pre {margin: 0.2em;color: black;border-radius: 0.25em;background-color: #f0f8ff;}#sk-container-id-3 input.sk-toggleable__control:checked~div.sk-toggleable__content {max-height: 200px;max-width: 100%;overflow: auto;}#sk-container-id-3 input.sk-toggleable__control:checked~label.sk-toggleable__label-arrow:before {content: \"▾\";}#sk-container-id-3 div.sk-estimator input.sk-toggleable__control:checked~label.sk-toggleable__label {background-color: #d4ebff;}#sk-container-id-3 div.sk-label input.sk-toggleable__control:checked~label.sk-toggleable__label {background-color: #d4ebff;}#sk-container-id-3 input.sk-hidden--visually {border: 0;clip: rect(1px 1px 1px 1px);clip: rect(1px, 1px, 1px, 1px);height: 1px;margin: -1px;overflow: hidden;padding: 0;position: absolute;width: 1px;}#sk-container-id-3 div.sk-estimator {font-family: monospace;background-color: #f0f8ff;border: 1px dotted black;border-radius: 0.25em;box-sizing: border-box;margin-bottom: 0.5em;}#sk-container-id-3 div.sk-estimator:hover {background-color: #d4ebff;}#sk-container-id-3 div.sk-parallel-item::after {content: \"\";width: 100%;border-bottom: 1px solid gray;flex-grow: 1;}#sk-container-id-3 div.sk-label:hover label.sk-toggleable__label {background-color: #d4ebff;}#sk-container-id-3 div.sk-serial::before {content: \"\";position: absolute;border-left: 1px solid gray;box-sizing: border-box;top: 0;bottom: 0;left: 50%;z-index: 0;}#sk-container-id-3 div.sk-serial {display: flex;flex-direction: column;align-items: center;background-color: white;padding-right: 0.2em;padding-left: 0.2em;position: relative;}#sk-container-id-3 div.sk-item {position: relative;z-index: 1;}#sk-container-id-3 div.sk-parallel {display: flex;align-items: stretch;justify-content: center;background-color: white;position: relative;}#sk-container-id-3 div.sk-item::before, #sk-container-id-3 div.sk-parallel-item::before {content: \"\";position: absolute;border-left: 1px solid gray;box-sizing: border-box;top: 0;bottom: 0;left: 50%;z-index: -1;}#sk-container-id-3 div.sk-parallel-item {display: flex;flex-direction: column;z-index: 1;position: relative;background-color: white;}#sk-container-id-3 div.sk-parallel-item:first-child::after {align-self: flex-end;width: 50%;}#sk-container-id-3 div.sk-parallel-item:last-child::after {align-self: flex-start;width: 50%;}#sk-container-id-3 div.sk-parallel-item:only-child::after {width: 0;}#sk-container-id-3 div.sk-dashed-wrapped {border: 1px dashed gray;margin: 0 0.4em 0.5em 0.4em;box-sizing: border-box;padding-bottom: 0.4em;background-color: white;}#sk-container-id-3 div.sk-label label {font-family: monospace;font-weight: bold;display: inline-block;line-height: 1.2em;}#sk-container-id-3 div.sk-label-container {text-align: center;}#sk-container-id-3 div.sk-container {/* jupyter's `normalize.less` sets `[hidden] { display: none; }` but bootstrap.min.css set `[hidden] { display: none !important; }` so we also need the `!important` here to be able to override the default hidden behavior on the sphinx rendered scikit-learn.org. See: https://github.com/scikit-learn/scikit-learn/issues/21755 */display: inline-block !important;position: relative;}#sk-container-id-3 div.sk-text-repr-fallback {display: none;}</style><div id=\"sk-container-id-3\" class=\"sk-top-container\"><div class=\"sk-text-repr-fallback\"><pre>LinearRegression()</pre><b>In a Jupyter environment, please rerun this cell to show the HTML representation or trust the notebook. <br />On GitHub, the HTML representation is unable to render, please try loading this page with nbviewer.org.</b></div><div class=\"sk-container\" hidden><div class=\"sk-item\"><div class=\"sk-estimator sk-toggleable\"><input class=\"sk-toggleable__control sk-hidden--visually\" id=\"sk-estimator-id-3\" type=\"checkbox\" checked><label for=\"sk-estimator-id-3\" class=\"sk-toggleable__label sk-toggleable__label-arrow\">LinearRegression</label><div class=\"sk-toggleable__content\"><pre>LinearRegression()</pre></div></div></div></div></div>"
      ],
      "text/plain": [
       "LinearRegression()"
      ]
     },
     "execution_count": 30,
     "metadata": {},
     "output_type": "execute_result"
    }
   ],
   "source": [
    "# Heating Load \n",
    "lm1 = LinearRegression()\n",
    "lm1"
   ]
  },
  {
   "cell_type": "code",
   "execution_count": 31,
   "id": "3bacb881-1e40-47f1-b200-f3c8df27c25d",
   "metadata": {
    "tags": []
   },
   "outputs": [
    {
     "name": "stdout",
     "output_type": "stream",
     "text": [
      "Coefficent: [[-0.68764606 -0.38603889  0.06891096 -0.40972246  0.70301133  0.00312206]]\n",
      "Intercept: [-0.00114276]\n"
     ]
    }
   ],
   "source": [
    "x1_train, x1_test, y1_train, y1_test = train_test_split(X, Y1,\n",
    "                                                    test_size = 0.1,\n",
    "                                                    random_state = 0) \n",
    "\n",
    "lm1.fit(x1_train, y1_train)\n",
    "\n",
    "print('Coefficent:', lm1.coef_)\n",
    "print('Intercept:', lm1.intercept_)"
   ]
  },
  {
   "cell_type": "code",
   "execution_count": 32,
   "id": "af44d179-8a3a-47e2-94f9-f805cc5f3119",
   "metadata": {
    "tags": []
   },
   "outputs": [
    {
     "name": "stdout",
     "output_type": "stream",
     "text": [
      "Mean Absolute Error: 0.3549089825030607\n",
      "Mean Squared Error: 0.22469967233682886\n",
      "r2_score: 0.8079472548939345\n"
     ]
    }
   ],
   "source": [
    "y1_pred = lm1.predict(x1_test)\n",
    "\n",
    "calc1 = np.mean(np.absolute(y1_pred - y1_test))\n",
    "calc2 = np.mean((y1_pred - y1_test)**2)\n",
    "calc3 = r2_score(y1_test ,y1_pred )\n",
    "\n",
    "print('Mean Absolute Error:', calc1)\n",
    "print('Mean Squared Error:', calc2)\n",
    "print('r2_score:', calc3)"
   ]
  },
  {
   "cell_type": "code",
   "execution_count": 33,
   "id": "f53cbeb4-00a4-4e47-b90f-4935ea139ed2",
   "metadata": {
    "tags": []
   },
   "outputs": [
    {
     "data": {
      "text/html": [
       "<style>#sk-container-id-4 {color: black;}#sk-container-id-4 pre{padding: 0;}#sk-container-id-4 div.sk-toggleable {background-color: white;}#sk-container-id-4 label.sk-toggleable__label {cursor: pointer;display: block;width: 100%;margin-bottom: 0;padding: 0.3em;box-sizing: border-box;text-align: center;}#sk-container-id-4 label.sk-toggleable__label-arrow:before {content: \"▸\";float: left;margin-right: 0.25em;color: #696969;}#sk-container-id-4 label.sk-toggleable__label-arrow:hover:before {color: black;}#sk-container-id-4 div.sk-estimator:hover label.sk-toggleable__label-arrow:before {color: black;}#sk-container-id-4 div.sk-toggleable__content {max-height: 0;max-width: 0;overflow: hidden;text-align: left;background-color: #f0f8ff;}#sk-container-id-4 div.sk-toggleable__content pre {margin: 0.2em;color: black;border-radius: 0.25em;background-color: #f0f8ff;}#sk-container-id-4 input.sk-toggleable__control:checked~div.sk-toggleable__content {max-height: 200px;max-width: 100%;overflow: auto;}#sk-container-id-4 input.sk-toggleable__control:checked~label.sk-toggleable__label-arrow:before {content: \"▾\";}#sk-container-id-4 div.sk-estimator input.sk-toggleable__control:checked~label.sk-toggleable__label {background-color: #d4ebff;}#sk-container-id-4 div.sk-label input.sk-toggleable__control:checked~label.sk-toggleable__label {background-color: #d4ebff;}#sk-container-id-4 input.sk-hidden--visually {border: 0;clip: rect(1px 1px 1px 1px);clip: rect(1px, 1px, 1px, 1px);height: 1px;margin: -1px;overflow: hidden;padding: 0;position: absolute;width: 1px;}#sk-container-id-4 div.sk-estimator {font-family: monospace;background-color: #f0f8ff;border: 1px dotted black;border-radius: 0.25em;box-sizing: border-box;margin-bottom: 0.5em;}#sk-container-id-4 div.sk-estimator:hover {background-color: #d4ebff;}#sk-container-id-4 div.sk-parallel-item::after {content: \"\";width: 100%;border-bottom: 1px solid gray;flex-grow: 1;}#sk-container-id-4 div.sk-label:hover label.sk-toggleable__label {background-color: #d4ebff;}#sk-container-id-4 div.sk-serial::before {content: \"\";position: absolute;border-left: 1px solid gray;box-sizing: border-box;top: 0;bottom: 0;left: 50%;z-index: 0;}#sk-container-id-4 div.sk-serial {display: flex;flex-direction: column;align-items: center;background-color: white;padding-right: 0.2em;padding-left: 0.2em;position: relative;}#sk-container-id-4 div.sk-item {position: relative;z-index: 1;}#sk-container-id-4 div.sk-parallel {display: flex;align-items: stretch;justify-content: center;background-color: white;position: relative;}#sk-container-id-4 div.sk-item::before, #sk-container-id-4 div.sk-parallel-item::before {content: \"\";position: absolute;border-left: 1px solid gray;box-sizing: border-box;top: 0;bottom: 0;left: 50%;z-index: -1;}#sk-container-id-4 div.sk-parallel-item {display: flex;flex-direction: column;z-index: 1;position: relative;background-color: white;}#sk-container-id-4 div.sk-parallel-item:first-child::after {align-self: flex-end;width: 50%;}#sk-container-id-4 div.sk-parallel-item:last-child::after {align-self: flex-start;width: 50%;}#sk-container-id-4 div.sk-parallel-item:only-child::after {width: 0;}#sk-container-id-4 div.sk-dashed-wrapped {border: 1px dashed gray;margin: 0 0.4em 0.5em 0.4em;box-sizing: border-box;padding-bottom: 0.4em;background-color: white;}#sk-container-id-4 div.sk-label label {font-family: monospace;font-weight: bold;display: inline-block;line-height: 1.2em;}#sk-container-id-4 div.sk-label-container {text-align: center;}#sk-container-id-4 div.sk-container {/* jupyter's `normalize.less` sets `[hidden] { display: none; }` but bootstrap.min.css set `[hidden] { display: none !important; }` so we also need the `!important` here to be able to override the default hidden behavior on the sphinx rendered scikit-learn.org. See: https://github.com/scikit-learn/scikit-learn/issues/21755 */display: inline-block !important;position: relative;}#sk-container-id-4 div.sk-text-repr-fallback {display: none;}</style><div id=\"sk-container-id-4\" class=\"sk-top-container\"><div class=\"sk-text-repr-fallback\"><pre>LinearRegression()</pre><b>In a Jupyter environment, please rerun this cell to show the HTML representation or trust the notebook. <br />On GitHub, the HTML representation is unable to render, please try loading this page with nbviewer.org.</b></div><div class=\"sk-container\" hidden><div class=\"sk-item\"><div class=\"sk-estimator sk-toggleable\"><input class=\"sk-toggleable__control sk-hidden--visually\" id=\"sk-estimator-id-4\" type=\"checkbox\" checked><label for=\"sk-estimator-id-4\" class=\"sk-toggleable__label sk-toggleable__label-arrow\">LinearRegression</label><div class=\"sk-toggleable__content\"><pre>LinearRegression()</pre></div></div></div></div></div>"
      ],
      "text/plain": [
       "LinearRegression()"
      ]
     },
     "execution_count": 33,
     "metadata": {},
     "output_type": "execute_result"
    }
   ],
   "source": [
    "# Cooling Load \n",
    "lm2 = LinearRegression()\n",
    "lm2"
   ]
  },
  {
   "cell_type": "code",
   "execution_count": 34,
   "id": "2a429717-9d9c-4bc9-b9b1-6d23b8cea6d2",
   "metadata": {
    "tags": []
   },
   "outputs": [
    {
     "name": "stdout",
     "output_type": "stream",
     "text": [
      "Coefficent: [[-0.79929927 -0.42000134  0.00214768 -0.41059672  0.7912934   0.02081418]]\n",
      "Intercept: [0.00120572]\n"
     ]
    }
   ],
   "source": [
    "x2_train, x2_test, y2_train, y2_test = train_test_split(X, Y2,\n",
    "                                                    test_size = 0.1,\n",
    "                                                    random_state = 0) \n",
    "\n",
    "lm2.fit(x2_train, y2_train)\n",
    "\n",
    "print('Coefficent:', lm2.coef_)\n",
    "print('Intercept:', lm2.intercept_)"
   ]
  },
  {
   "cell_type": "code",
   "execution_count": 35,
   "id": "3210f95c-3144-4efb-876b-cdd13ac66668",
   "metadata": {
    "tags": []
   },
   "outputs": [
    {
     "name": "stdout",
     "output_type": "stream",
     "text": [
      "Mean Absolute Error: 0.2900407304408712\n",
      "Mean Squared Error: 0.16791982696285734\n",
      "r2_score: 0.8450556647590919\n"
     ]
    }
   ],
   "source": [
    "y2_pred = lm2.predict(x2_test)\n",
    "\n",
    "calc1 = np.mean(np.absolute(y2_pred - y2_test))\n",
    "calc2 = np.mean((y2_pred - y2_test)**2)\n",
    "calc3 = r2_score(y2_test ,y2_pred )\n",
    "\n",
    "print('Mean Absolute Error:', calc1)\n",
    "print('Mean Squared Error:', calc2)\n",
    "print('r2_score:', calc3)"
   ]
  },
  {
   "cell_type": "markdown",
   "id": "90d7de26-1819-4022-bced-0a0b1a5d39cf",
   "metadata": {
    "tags": []
   },
   "source": [
    "##### Notes \n",
    "Both Target models have reasonably low MAE and MSE and high R2 score meaning that this model can explain the majority of the variation. We can use Ridge Regrssion to improve the model"
   ]
  },
  {
   "cell_type": "markdown",
   "id": "1de5321e-13c3-45f2-b1ed-739bddafafb9",
   "metadata": {},
   "source": [
    "##### Model Evaluation"
   ]
  },
  {
   "cell_type": "code",
   "execution_count": 36,
   "id": "ab78028a-0f8f-4645-a3f0-d6246c27a397",
   "metadata": {
    "tags": []
   },
   "outputs": [
    {
     "name": "stdout",
     "output_type": "stream",
     "text": [
      "[0.29593253 0.8627128  0.85693965 0.87128716 0.93869204 0.90226172\n",
      " 0.90277267 0.8177681  0.7699134  0.86817295]\n",
      "The mean of the folds (r^2 Score): 0.8086453026020239\n",
      "The standard deviation of the folds (r^2 Score): 0.17655512043328947\n"
     ]
    }
   ],
   "source": [
    "# Heating Load \n",
    "R2 = cross_val_score(lm1 , X , Y1, cv = 10) \n",
    "print(R2)\n",
    "print('The mean of the folds (r^2 Score):', R2.mean())\n",
    "print('The standard deviation of the folds (r^2 Score):', R2.std())"
   ]
  },
  {
   "cell_type": "code",
   "execution_count": 37,
   "id": "a767fd1d-1c35-4bf4-ab1c-71bba71bd1f1",
   "metadata": {
    "tags": []
   },
   "outputs": [
    {
     "data": {
      "text/plain": [
       "array([[0.58601177],\n",
       "       [0.59812193],\n",
       "       [0.61023209],\n",
       "       [0.62234224],\n",
       "       [0.83359768]])"
      ]
     },
     "execution_count": 37,
     "metadata": {},
     "output_type": "execute_result"
    }
   ],
   "source": [
    "yhat = cross_val_predict(lm1, X, Y2, cv = 10)\n",
    "yhat[:5]"
   ]
  },
  {
   "cell_type": "code",
   "execution_count": 38,
   "id": "35f5ed10-013b-48f6-9f39-e4a631a7ff8c",
   "metadata": {
    "tags": []
   },
   "outputs": [
    {
     "name": "stdout",
     "output_type": "stream",
     "text": [
      "[0.59221451 0.84308326 0.82611783 0.83832503 0.90744707 0.86900876\n",
      " 0.87848607 0.81903922 0.7915211  0.87671281]\n",
      "The mean of the folds (r^2 Score): 0.824195566398948\n",
      "The standard deviation of the folds (r^2 Score): 0.08373413539894808\n"
     ]
    }
   ],
   "source": [
    "# Cooling Load \n",
    "R2 = cross_val_score(lm2 , X , Y2, cv = 10) \n",
    "print(R2)\n",
    "print('The mean of the folds (r^2 Score):', R2.mean())\n",
    "print('The standard deviation of the folds (r^2 Score):', R2.std())"
   ]
  },
  {
   "cell_type": "code",
   "execution_count": 39,
   "id": "3adc5d50-813a-4621-ab20-1132c2dfea9b",
   "metadata": {
    "tags": []
   },
   "outputs": [
    {
     "data": {
      "text/plain": [
       "array([[0.58601177],\n",
       "       [0.59812193],\n",
       "       [0.61023209],\n",
       "       [0.62234224],\n",
       "       [0.83359768]])"
      ]
     },
     "execution_count": 39,
     "metadata": {},
     "output_type": "execute_result"
    }
   ],
   "source": [
    "yhat = cross_val_predict(lm2, X, Y2, cv = 10)\n",
    "yhat[:5]"
   ]
  },
  {
   "cell_type": "markdown",
   "id": "e372ec22-a2b5-461f-8cba-9ad4b7525c51",
   "metadata": {
    "tags": []
   },
   "source": [
    "##### Notes\n",
    "The score from cross validation follows the evaluation of our r2 score from looking at one split. The R2 score is quite strong enough across the board for us to establish that the features combined does influence the target by alot. We can use ridge regression to improve the model."
   ]
  },
  {
   "cell_type": "markdown",
   "id": "40fafde3-fa98-4146-8727-b1e94a152d2f",
   "metadata": {
    "tags": []
   },
   "source": [
    "##### Model 2.1 Using ridge regression to improve the model."
   ]
  },
  {
   "cell_type": "code",
   "execution_count": 40,
   "id": "b38bd670-b14b-4f51-a43b-8e2bad729aa2",
   "metadata": {
    "tags": []
   },
   "outputs": [],
   "source": [
    "#New Model with ridge construct \n",
    "parameters = {'alpha': [0.1 ,1,10,100,1000,10000]}"
   ]
  },
  {
   "cell_type": "code",
   "execution_count": 41,
   "id": "8ecdd99c-4eaf-4a2f-8923-0ec37d6ebbd2",
   "metadata": {
    "tags": []
   },
   "outputs": [
    {
     "data": {
      "text/html": [
       "<style>#sk-container-id-5 {color: black;}#sk-container-id-5 pre{padding: 0;}#sk-container-id-5 div.sk-toggleable {background-color: white;}#sk-container-id-5 label.sk-toggleable__label {cursor: pointer;display: block;width: 100%;margin-bottom: 0;padding: 0.3em;box-sizing: border-box;text-align: center;}#sk-container-id-5 label.sk-toggleable__label-arrow:before {content: \"▸\";float: left;margin-right: 0.25em;color: #696969;}#sk-container-id-5 label.sk-toggleable__label-arrow:hover:before {color: black;}#sk-container-id-5 div.sk-estimator:hover label.sk-toggleable__label-arrow:before {color: black;}#sk-container-id-5 div.sk-toggleable__content {max-height: 0;max-width: 0;overflow: hidden;text-align: left;background-color: #f0f8ff;}#sk-container-id-5 div.sk-toggleable__content pre {margin: 0.2em;color: black;border-radius: 0.25em;background-color: #f0f8ff;}#sk-container-id-5 input.sk-toggleable__control:checked~div.sk-toggleable__content {max-height: 200px;max-width: 100%;overflow: auto;}#sk-container-id-5 input.sk-toggleable__control:checked~label.sk-toggleable__label-arrow:before {content: \"▾\";}#sk-container-id-5 div.sk-estimator input.sk-toggleable__control:checked~label.sk-toggleable__label {background-color: #d4ebff;}#sk-container-id-5 div.sk-label input.sk-toggleable__control:checked~label.sk-toggleable__label {background-color: #d4ebff;}#sk-container-id-5 input.sk-hidden--visually {border: 0;clip: rect(1px 1px 1px 1px);clip: rect(1px, 1px, 1px, 1px);height: 1px;margin: -1px;overflow: hidden;padding: 0;position: absolute;width: 1px;}#sk-container-id-5 div.sk-estimator {font-family: monospace;background-color: #f0f8ff;border: 1px dotted black;border-radius: 0.25em;box-sizing: border-box;margin-bottom: 0.5em;}#sk-container-id-5 div.sk-estimator:hover {background-color: #d4ebff;}#sk-container-id-5 div.sk-parallel-item::after {content: \"\";width: 100%;border-bottom: 1px solid gray;flex-grow: 1;}#sk-container-id-5 div.sk-label:hover label.sk-toggleable__label {background-color: #d4ebff;}#sk-container-id-5 div.sk-serial::before {content: \"\";position: absolute;border-left: 1px solid gray;box-sizing: border-box;top: 0;bottom: 0;left: 50%;z-index: 0;}#sk-container-id-5 div.sk-serial {display: flex;flex-direction: column;align-items: center;background-color: white;padding-right: 0.2em;padding-left: 0.2em;position: relative;}#sk-container-id-5 div.sk-item {position: relative;z-index: 1;}#sk-container-id-5 div.sk-parallel {display: flex;align-items: stretch;justify-content: center;background-color: white;position: relative;}#sk-container-id-5 div.sk-item::before, #sk-container-id-5 div.sk-parallel-item::before {content: \"\";position: absolute;border-left: 1px solid gray;box-sizing: border-box;top: 0;bottom: 0;left: 50%;z-index: -1;}#sk-container-id-5 div.sk-parallel-item {display: flex;flex-direction: column;z-index: 1;position: relative;background-color: white;}#sk-container-id-5 div.sk-parallel-item:first-child::after {align-self: flex-end;width: 50%;}#sk-container-id-5 div.sk-parallel-item:last-child::after {align-self: flex-start;width: 50%;}#sk-container-id-5 div.sk-parallel-item:only-child::after {width: 0;}#sk-container-id-5 div.sk-dashed-wrapped {border: 1px dashed gray;margin: 0 0.4em 0.5em 0.4em;box-sizing: border-box;padding-bottom: 0.4em;background-color: white;}#sk-container-id-5 div.sk-label label {font-family: monospace;font-weight: bold;display: inline-block;line-height: 1.2em;}#sk-container-id-5 div.sk-label-container {text-align: center;}#sk-container-id-5 div.sk-container {/* jupyter's `normalize.less` sets `[hidden] { display: none; }` but bootstrap.min.css set `[hidden] { display: none !important; }` so we also need the `!important` here to be able to override the default hidden behavior on the sphinx rendered scikit-learn.org. See: https://github.com/scikit-learn/scikit-learn/issues/21755 */display: inline-block !important;position: relative;}#sk-container-id-5 div.sk-text-repr-fallback {display: none;}</style><div id=\"sk-container-id-5\" class=\"sk-top-container\"><div class=\"sk-text-repr-fallback\"><pre>Ridge()</pre><b>In a Jupyter environment, please rerun this cell to show the HTML representation or trust the notebook. <br />On GitHub, the HTML representation is unable to render, please try loading this page with nbviewer.org.</b></div><div class=\"sk-container\" hidden><div class=\"sk-item\"><div class=\"sk-estimator sk-toggleable\"><input class=\"sk-toggleable__control sk-hidden--visually\" id=\"sk-estimator-id-5\" type=\"checkbox\" checked><label for=\"sk-estimator-id-5\" class=\"sk-toggleable__label sk-toggleable__label-arrow\">Ridge</label><div class=\"sk-toggleable__content\"><pre>Ridge()</pre></div></div></div></div></div>"
      ],
      "text/plain": [
       "Ridge()"
      ]
     },
     "execution_count": 41,
     "metadata": {},
     "output_type": "execute_result"
    }
   ],
   "source": [
    "# Creating Model - Heating Load \n",
    "R1 = Ridge()\n",
    "R1"
   ]
  },
  {
   "cell_type": "code",
   "execution_count": 42,
   "id": "ff55ab7f-11d4-4b57-91d2-bc93eac90b7c",
   "metadata": {
    "tags": []
   },
   "outputs": [
    {
     "name": "stdout",
     "output_type": "stream",
     "text": [
      "Ridge(alpha=1)\n"
     ]
    }
   ],
   "source": [
    "Rr1 = GridSearchCV(R1, parameters, scoring='neg_mean_squared_error',cv=10)\n",
    "Rr1.fit(X, Y1)\n",
    "print(Rr1.best_estimator_)"
   ]
  },
  {
   "cell_type": "code",
   "execution_count": 43,
   "id": "b244b10c-8f92-4829-8046-2d7bb183fcc8",
   "metadata": {
    "tags": []
   },
   "outputs": [
    {
     "data": {
      "text/html": [
       "<style>#sk-container-id-6 {color: black;}#sk-container-id-6 pre{padding: 0;}#sk-container-id-6 div.sk-toggleable {background-color: white;}#sk-container-id-6 label.sk-toggleable__label {cursor: pointer;display: block;width: 100%;margin-bottom: 0;padding: 0.3em;box-sizing: border-box;text-align: center;}#sk-container-id-6 label.sk-toggleable__label-arrow:before {content: \"▸\";float: left;margin-right: 0.25em;color: #696969;}#sk-container-id-6 label.sk-toggleable__label-arrow:hover:before {color: black;}#sk-container-id-6 div.sk-estimator:hover label.sk-toggleable__label-arrow:before {color: black;}#sk-container-id-6 div.sk-toggleable__content {max-height: 0;max-width: 0;overflow: hidden;text-align: left;background-color: #f0f8ff;}#sk-container-id-6 div.sk-toggleable__content pre {margin: 0.2em;color: black;border-radius: 0.25em;background-color: #f0f8ff;}#sk-container-id-6 input.sk-toggleable__control:checked~div.sk-toggleable__content {max-height: 200px;max-width: 100%;overflow: auto;}#sk-container-id-6 input.sk-toggleable__control:checked~label.sk-toggleable__label-arrow:before {content: \"▾\";}#sk-container-id-6 div.sk-estimator input.sk-toggleable__control:checked~label.sk-toggleable__label {background-color: #d4ebff;}#sk-container-id-6 div.sk-label input.sk-toggleable__control:checked~label.sk-toggleable__label {background-color: #d4ebff;}#sk-container-id-6 input.sk-hidden--visually {border: 0;clip: rect(1px 1px 1px 1px);clip: rect(1px, 1px, 1px, 1px);height: 1px;margin: -1px;overflow: hidden;padding: 0;position: absolute;width: 1px;}#sk-container-id-6 div.sk-estimator {font-family: monospace;background-color: #f0f8ff;border: 1px dotted black;border-radius: 0.25em;box-sizing: border-box;margin-bottom: 0.5em;}#sk-container-id-6 div.sk-estimator:hover {background-color: #d4ebff;}#sk-container-id-6 div.sk-parallel-item::after {content: \"\";width: 100%;border-bottom: 1px solid gray;flex-grow: 1;}#sk-container-id-6 div.sk-label:hover label.sk-toggleable__label {background-color: #d4ebff;}#sk-container-id-6 div.sk-serial::before {content: \"\";position: absolute;border-left: 1px solid gray;box-sizing: border-box;top: 0;bottom: 0;left: 50%;z-index: 0;}#sk-container-id-6 div.sk-serial {display: flex;flex-direction: column;align-items: center;background-color: white;padding-right: 0.2em;padding-left: 0.2em;position: relative;}#sk-container-id-6 div.sk-item {position: relative;z-index: 1;}#sk-container-id-6 div.sk-parallel {display: flex;align-items: stretch;justify-content: center;background-color: white;position: relative;}#sk-container-id-6 div.sk-item::before, #sk-container-id-6 div.sk-parallel-item::before {content: \"\";position: absolute;border-left: 1px solid gray;box-sizing: border-box;top: 0;bottom: 0;left: 50%;z-index: -1;}#sk-container-id-6 div.sk-parallel-item {display: flex;flex-direction: column;z-index: 1;position: relative;background-color: white;}#sk-container-id-6 div.sk-parallel-item:first-child::after {align-self: flex-end;width: 50%;}#sk-container-id-6 div.sk-parallel-item:last-child::after {align-self: flex-start;width: 50%;}#sk-container-id-6 div.sk-parallel-item:only-child::after {width: 0;}#sk-container-id-6 div.sk-dashed-wrapped {border: 1px dashed gray;margin: 0 0.4em 0.5em 0.4em;box-sizing: border-box;padding-bottom: 0.4em;background-color: white;}#sk-container-id-6 div.sk-label label {font-family: monospace;font-weight: bold;display: inline-block;line-height: 1.2em;}#sk-container-id-6 div.sk-label-container {text-align: center;}#sk-container-id-6 div.sk-container {/* jupyter's `normalize.less` sets `[hidden] { display: none; }` but bootstrap.min.css set `[hidden] { display: none !important; }` so we also need the `!important` here to be able to override the default hidden behavior on the sphinx rendered scikit-learn.org. See: https://github.com/scikit-learn/scikit-learn/issues/21755 */display: inline-block !important;position: relative;}#sk-container-id-6 div.sk-text-repr-fallback {display: none;}</style><div id=\"sk-container-id-6\" class=\"sk-top-container\"><div class=\"sk-text-repr-fallback\"><pre>Ridge(alpha=1)</pre><b>In a Jupyter environment, please rerun this cell to show the HTML representation or trust the notebook. <br />On GitHub, the HTML representation is unable to render, please try loading this page with nbviewer.org.</b></div><div class=\"sk-container\" hidden><div class=\"sk-item\"><div class=\"sk-estimator sk-toggleable\"><input class=\"sk-toggleable__control sk-hidden--visually\" id=\"sk-estimator-id-6\" type=\"checkbox\" checked><label for=\"sk-estimator-id-6\" class=\"sk-toggleable__label sk-toggleable__label-arrow\">Ridge</label><div class=\"sk-toggleable__content\"><pre>Ridge(alpha=1)</pre></div></div></div></div></div>"
      ],
      "text/plain": [
       "Ridge(alpha=1)"
      ]
     },
     "execution_count": 43,
     "metadata": {},
     "output_type": "execute_result"
    }
   ],
   "source": [
    "best1 = Rr1.best_estimator_\n",
    "best1.fit(X,Y1)"
   ]
  },
  {
   "cell_type": "code",
   "execution_count": 44,
   "id": "793d74fc-4770-4d27-9db7-66b00e804658",
   "metadata": {
    "tags": []
   },
   "outputs": [
    {
     "name": "stdout",
     "output_type": "stream",
     "text": [
      "Coefficent: [[-0.57417768 -0.31016916  0.08828165 -0.34509419  0.73077755  0.00322846]]\n",
      "Intercept: [-0.00118921]\n"
     ]
    }
   ],
   "source": [
    "x1_train, x1_test, y1_train, y1_test = train_test_split(X, Y1,\n",
    "                                                    test_size = 0.1,\n",
    "                                                    random_state = 0) \n",
    "\n",
    "best1.fit(x1_train, y1_train)\n",
    "\n",
    "print('Coefficent:', best1.coef_)\n",
    "print('Intercept:', best1.intercept_)"
   ]
  },
  {
   "cell_type": "code",
   "execution_count": 45,
   "id": "a83a0ed4-e4d8-46f7-8b15-2b1c417eb9a2",
   "metadata": {
    "tags": []
   },
   "outputs": [
    {
     "name": "stdout",
     "output_type": "stream",
     "text": [
      "Mean Absolute Error: 0.3540079004269107\n",
      "Mean Squared Error: 0.22490503957970562\n",
      "r2_score: 0.8077717257427828\n"
     ]
    }
   ],
   "source": [
    "y1_pred = best1.predict(x1_test)\n",
    "\n",
    "calc1 = np.mean(np.absolute(y1_pred - y1_test))\n",
    "calc2 = np.mean((y1_pred - y1_test)**2)\n",
    "calc3 = r2_score(y1_test ,y1_pred )\n",
    "\n",
    "print('Mean Absolute Error:', calc1)\n",
    "print('Mean Squared Error:', calc2)\n",
    "print('r2_score:', calc3)"
   ]
  },
  {
   "cell_type": "code",
   "execution_count": 46,
   "id": "e39d9849-7108-4425-b9d3-f59a45f85bec",
   "metadata": {
    "tags": []
   },
   "outputs": [
    {
     "data": {
      "text/html": [
       "<style>#sk-container-id-7 {color: black;}#sk-container-id-7 pre{padding: 0;}#sk-container-id-7 div.sk-toggleable {background-color: white;}#sk-container-id-7 label.sk-toggleable__label {cursor: pointer;display: block;width: 100%;margin-bottom: 0;padding: 0.3em;box-sizing: border-box;text-align: center;}#sk-container-id-7 label.sk-toggleable__label-arrow:before {content: \"▸\";float: left;margin-right: 0.25em;color: #696969;}#sk-container-id-7 label.sk-toggleable__label-arrow:hover:before {color: black;}#sk-container-id-7 div.sk-estimator:hover label.sk-toggleable__label-arrow:before {color: black;}#sk-container-id-7 div.sk-toggleable__content {max-height: 0;max-width: 0;overflow: hidden;text-align: left;background-color: #f0f8ff;}#sk-container-id-7 div.sk-toggleable__content pre {margin: 0.2em;color: black;border-radius: 0.25em;background-color: #f0f8ff;}#sk-container-id-7 input.sk-toggleable__control:checked~div.sk-toggleable__content {max-height: 200px;max-width: 100%;overflow: auto;}#sk-container-id-7 input.sk-toggleable__control:checked~label.sk-toggleable__label-arrow:before {content: \"▾\";}#sk-container-id-7 div.sk-estimator input.sk-toggleable__control:checked~label.sk-toggleable__label {background-color: #d4ebff;}#sk-container-id-7 div.sk-label input.sk-toggleable__control:checked~label.sk-toggleable__label {background-color: #d4ebff;}#sk-container-id-7 input.sk-hidden--visually {border: 0;clip: rect(1px 1px 1px 1px);clip: rect(1px, 1px, 1px, 1px);height: 1px;margin: -1px;overflow: hidden;padding: 0;position: absolute;width: 1px;}#sk-container-id-7 div.sk-estimator {font-family: monospace;background-color: #f0f8ff;border: 1px dotted black;border-radius: 0.25em;box-sizing: border-box;margin-bottom: 0.5em;}#sk-container-id-7 div.sk-estimator:hover {background-color: #d4ebff;}#sk-container-id-7 div.sk-parallel-item::after {content: \"\";width: 100%;border-bottom: 1px solid gray;flex-grow: 1;}#sk-container-id-7 div.sk-label:hover label.sk-toggleable__label {background-color: #d4ebff;}#sk-container-id-7 div.sk-serial::before {content: \"\";position: absolute;border-left: 1px solid gray;box-sizing: border-box;top: 0;bottom: 0;left: 50%;z-index: 0;}#sk-container-id-7 div.sk-serial {display: flex;flex-direction: column;align-items: center;background-color: white;padding-right: 0.2em;padding-left: 0.2em;position: relative;}#sk-container-id-7 div.sk-item {position: relative;z-index: 1;}#sk-container-id-7 div.sk-parallel {display: flex;align-items: stretch;justify-content: center;background-color: white;position: relative;}#sk-container-id-7 div.sk-item::before, #sk-container-id-7 div.sk-parallel-item::before {content: \"\";position: absolute;border-left: 1px solid gray;box-sizing: border-box;top: 0;bottom: 0;left: 50%;z-index: -1;}#sk-container-id-7 div.sk-parallel-item {display: flex;flex-direction: column;z-index: 1;position: relative;background-color: white;}#sk-container-id-7 div.sk-parallel-item:first-child::after {align-self: flex-end;width: 50%;}#sk-container-id-7 div.sk-parallel-item:last-child::after {align-self: flex-start;width: 50%;}#sk-container-id-7 div.sk-parallel-item:only-child::after {width: 0;}#sk-container-id-7 div.sk-dashed-wrapped {border: 1px dashed gray;margin: 0 0.4em 0.5em 0.4em;box-sizing: border-box;padding-bottom: 0.4em;background-color: white;}#sk-container-id-7 div.sk-label label {font-family: monospace;font-weight: bold;display: inline-block;line-height: 1.2em;}#sk-container-id-7 div.sk-label-container {text-align: center;}#sk-container-id-7 div.sk-container {/* jupyter's `normalize.less` sets `[hidden] { display: none; }` but bootstrap.min.css set `[hidden] { display: none !important; }` so we also need the `!important` here to be able to override the default hidden behavior on the sphinx rendered scikit-learn.org. See: https://github.com/scikit-learn/scikit-learn/issues/21755 */display: inline-block !important;position: relative;}#sk-container-id-7 div.sk-text-repr-fallback {display: none;}</style><div id=\"sk-container-id-7\" class=\"sk-top-container\"><div class=\"sk-text-repr-fallback\"><pre>Ridge()</pre><b>In a Jupyter environment, please rerun this cell to show the HTML representation or trust the notebook. <br />On GitHub, the HTML representation is unable to render, please try loading this page with nbviewer.org.</b></div><div class=\"sk-container\" hidden><div class=\"sk-item\"><div class=\"sk-estimator sk-toggleable\"><input class=\"sk-toggleable__control sk-hidden--visually\" id=\"sk-estimator-id-7\" type=\"checkbox\" checked><label for=\"sk-estimator-id-7\" class=\"sk-toggleable__label sk-toggleable__label-arrow\">Ridge</label><div class=\"sk-toggleable__content\"><pre>Ridge()</pre></div></div></div></div></div>"
      ],
      "text/plain": [
       "Ridge()"
      ]
     },
     "execution_count": 46,
     "metadata": {},
     "output_type": "execute_result"
    }
   ],
   "source": [
    "# Creating Model - Cooling Load\n",
    "R2 = Ridge()\n",
    "R2"
   ]
  },
  {
   "cell_type": "code",
   "execution_count": 47,
   "id": "dd622580-64ae-4cd6-89c2-2324a95d488d",
   "metadata": {
    "tags": []
   },
   "outputs": [
    {
     "name": "stdout",
     "output_type": "stream",
     "text": [
      "Ridge(alpha=0.1)\n"
     ]
    }
   ],
   "source": [
    "Rr2 = GridSearchCV(R2, parameters, scoring='neg_mean_squared_error',cv=10)\n",
    "Rr2.fit(X,Y2)\n",
    "print(Rr2.best_estimator_)"
   ]
  },
  {
   "cell_type": "code",
   "execution_count": 48,
   "id": "2f759e61-aa2e-4e04-8918-239ea1d7c3a8",
   "metadata": {
    "tags": []
   },
   "outputs": [
    {
     "data": {
      "text/html": [
       "<style>#sk-container-id-8 {color: black;}#sk-container-id-8 pre{padding: 0;}#sk-container-id-8 div.sk-toggleable {background-color: white;}#sk-container-id-8 label.sk-toggleable__label {cursor: pointer;display: block;width: 100%;margin-bottom: 0;padding: 0.3em;box-sizing: border-box;text-align: center;}#sk-container-id-8 label.sk-toggleable__label-arrow:before {content: \"▸\";float: left;margin-right: 0.25em;color: #696969;}#sk-container-id-8 label.sk-toggleable__label-arrow:hover:before {color: black;}#sk-container-id-8 div.sk-estimator:hover label.sk-toggleable__label-arrow:before {color: black;}#sk-container-id-8 div.sk-toggleable__content {max-height: 0;max-width: 0;overflow: hidden;text-align: left;background-color: #f0f8ff;}#sk-container-id-8 div.sk-toggleable__content pre {margin: 0.2em;color: black;border-radius: 0.25em;background-color: #f0f8ff;}#sk-container-id-8 input.sk-toggleable__control:checked~div.sk-toggleable__content {max-height: 200px;max-width: 100%;overflow: auto;}#sk-container-id-8 input.sk-toggleable__control:checked~label.sk-toggleable__label-arrow:before {content: \"▾\";}#sk-container-id-8 div.sk-estimator input.sk-toggleable__control:checked~label.sk-toggleable__label {background-color: #d4ebff;}#sk-container-id-8 div.sk-label input.sk-toggleable__control:checked~label.sk-toggleable__label {background-color: #d4ebff;}#sk-container-id-8 input.sk-hidden--visually {border: 0;clip: rect(1px 1px 1px 1px);clip: rect(1px, 1px, 1px, 1px);height: 1px;margin: -1px;overflow: hidden;padding: 0;position: absolute;width: 1px;}#sk-container-id-8 div.sk-estimator {font-family: monospace;background-color: #f0f8ff;border: 1px dotted black;border-radius: 0.25em;box-sizing: border-box;margin-bottom: 0.5em;}#sk-container-id-8 div.sk-estimator:hover {background-color: #d4ebff;}#sk-container-id-8 div.sk-parallel-item::after {content: \"\";width: 100%;border-bottom: 1px solid gray;flex-grow: 1;}#sk-container-id-8 div.sk-label:hover label.sk-toggleable__label {background-color: #d4ebff;}#sk-container-id-8 div.sk-serial::before {content: \"\";position: absolute;border-left: 1px solid gray;box-sizing: border-box;top: 0;bottom: 0;left: 50%;z-index: 0;}#sk-container-id-8 div.sk-serial {display: flex;flex-direction: column;align-items: center;background-color: white;padding-right: 0.2em;padding-left: 0.2em;position: relative;}#sk-container-id-8 div.sk-item {position: relative;z-index: 1;}#sk-container-id-8 div.sk-parallel {display: flex;align-items: stretch;justify-content: center;background-color: white;position: relative;}#sk-container-id-8 div.sk-item::before, #sk-container-id-8 div.sk-parallel-item::before {content: \"\";position: absolute;border-left: 1px solid gray;box-sizing: border-box;top: 0;bottom: 0;left: 50%;z-index: -1;}#sk-container-id-8 div.sk-parallel-item {display: flex;flex-direction: column;z-index: 1;position: relative;background-color: white;}#sk-container-id-8 div.sk-parallel-item:first-child::after {align-self: flex-end;width: 50%;}#sk-container-id-8 div.sk-parallel-item:last-child::after {align-self: flex-start;width: 50%;}#sk-container-id-8 div.sk-parallel-item:only-child::after {width: 0;}#sk-container-id-8 div.sk-dashed-wrapped {border: 1px dashed gray;margin: 0 0.4em 0.5em 0.4em;box-sizing: border-box;padding-bottom: 0.4em;background-color: white;}#sk-container-id-8 div.sk-label label {font-family: monospace;font-weight: bold;display: inline-block;line-height: 1.2em;}#sk-container-id-8 div.sk-label-container {text-align: center;}#sk-container-id-8 div.sk-container {/* jupyter's `normalize.less` sets `[hidden] { display: none; }` but bootstrap.min.css set `[hidden] { display: none !important; }` so we also need the `!important` here to be able to override the default hidden behavior on the sphinx rendered scikit-learn.org. See: https://github.com/scikit-learn/scikit-learn/issues/21755 */display: inline-block !important;position: relative;}#sk-container-id-8 div.sk-text-repr-fallback {display: none;}</style><div id=\"sk-container-id-8\" class=\"sk-top-container\"><div class=\"sk-text-repr-fallback\"><pre>Ridge(alpha=0.1)</pre><b>In a Jupyter environment, please rerun this cell to show the HTML representation or trust the notebook. <br />On GitHub, the HTML representation is unable to render, please try loading this page with nbviewer.org.</b></div><div class=\"sk-container\" hidden><div class=\"sk-item\"><div class=\"sk-estimator sk-toggleable\"><input class=\"sk-toggleable__control sk-hidden--visually\" id=\"sk-estimator-id-8\" type=\"checkbox\" checked><label for=\"sk-estimator-id-8\" class=\"sk-toggleable__label sk-toggleable__label-arrow\">Ridge</label><div class=\"sk-toggleable__content\"><pre>Ridge(alpha=0.1)</pre></div></div></div></div></div>"
      ],
      "text/plain": [
       "Ridge(alpha=0.1)"
      ]
     },
     "execution_count": 48,
     "metadata": {},
     "output_type": "execute_result"
    }
   ],
   "source": [
    "best2 = Rr2.best_estimator_\n",
    "best2.fit(X,Y2)"
   ]
  },
  {
   "cell_type": "code",
   "execution_count": 49,
   "id": "bc3ae5a2-e171-42f8-9211-84773896e67d",
   "metadata": {
    "tags": []
   },
   "outputs": [
    {
     "name": "stdout",
     "output_type": "stream",
     "text": [
      "Coefficent: [[-0.78331394 -0.40913027  0.00480479 -0.4012792   0.79562327  0.02082799]]\n",
      "Intercept: [0.00119941]\n"
     ]
    }
   ],
   "source": [
    "x2_train, x2_test, y2_train, y2_test = train_test_split(X, Y2,\n",
    "                                                    test_size = 0.1,\n",
    "                                                    random_state = 0) \n",
    "\n",
    "best2.fit(x2_train, y2_train)\n",
    "\n",
    "print('Coefficent:', best2.coef_)\n",
    "print('Intercept:', best2.intercept_)"
   ]
  },
  {
   "cell_type": "code",
   "execution_count": 50,
   "id": "cec4bf2d-d48f-48db-88a6-d3927286bd04",
   "metadata": {
    "tags": []
   },
   "outputs": [
    {
     "name": "stdout",
     "output_type": "stream",
     "text": [
      "Mean Absolute Error: 0.2898798985408013\n",
      "Mean Squared Error: 0.16787985991609017\n",
      "r2_score: 0.8450925434743983\n"
     ]
    }
   ],
   "source": [
    "y2_pred = best2.predict(x2_test)\n",
    "\n",
    "calc1 = np.mean(np.absolute(y2_pred - y2_test))\n",
    "calc2 = np.mean((y2_pred - y2_test)**2)\n",
    "calc3 = r2_score(y2_test ,y2_pred )\n",
    "\n",
    "print('Mean Absolute Error:', calc1)\n",
    "print('Mean Squared Error:', calc2)\n",
    "print('r2_score:', calc3)"
   ]
  },
  {
   "cell_type": "markdown",
   "id": "d9b9dbde-f6a8-47ca-9287-31a343d6a480",
   "metadata": {
    "tags": []
   },
   "source": [
    "##### Notes\n",
    "We see via using gridSearchCV that using alpha = 1 will give the best result. Upon looking at the results we see that it makes no diffrence to the MAE, MSE and R2 hence adding a penalty will not make the model any better."
   ]
  }
 ],
 "metadata": {
  "kernelspec": {
   "display_name": "Python 3 (ipykernel)",
   "language": "python",
   "name": "python3"
  },
  "language_info": {
   "codemirror_mode": {
    "name": "ipython",
    "version": 3
   },
   "file_extension": ".py",
   "mimetype": "text/x-python",
   "name": "python",
   "nbconvert_exporter": "python",
   "pygments_lexer": "ipython3",
   "version": "3.11.5"
  }
 },
 "nbformat": 4,
 "nbformat_minor": 5
}
